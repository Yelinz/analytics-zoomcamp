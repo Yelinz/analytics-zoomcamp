{
 "cells": [
  {
   "cell_type": "markdown",
   "metadata": {},
   "source": [
    "# All Modules Functionality Workbook\n",
    "\n",
    "This notebook demonstrates all steps of the workflow: fetching, transforming, training, inference, and simulation."
   ]
  },
  {
   "cell_type": "code",
   "execution_count": 1,
   "metadata": {
    "execution": {
     "iopub.execute_input": "2024-07-14T20:03:45.229828Z",
     "iopub.status.busy": "2024-07-14T20:03:45.229599Z",
     "iopub.status.idle": "2024-07-14T20:03:47.357867Z",
     "shell.execute_reply": "2024-07-14T20:03:47.357195Z",
     "shell.execute_reply.started": "2024-07-14T20:03:45.229800Z"
    },
    "tags": []
   },
   "outputs": [],
   "source": [
    "import matplotlib.pyplot as plt\n",
    "from scripts.data_repo import DataRepository\n",
    "from scripts.transform import TransformData\n",
    "from scripts.train import TrainModel\n",
    "import warnings\n",
    "import pandas as pd\n",
    "import numpy as np\n",
    "import plotly.express as px"
   ]
  },
  {
   "cell_type": "code",
   "execution_count": 2,
   "metadata": {
    "execution": {
     "iopub.execute_input": "2024-07-14T20:03:47.359894Z",
     "iopub.status.busy": "2024-07-14T20:03:47.359402Z",
     "iopub.status.idle": "2024-07-14T20:03:47.363578Z",
     "shell.execute_reply": "2024-07-14T20:03:47.362791Z",
     "shell.execute_reply.started": "2024-07-14T20:03:47.359862Z"
    },
    "tags": []
   },
   "outputs": [],
   "source": [
    "# workflow settings\n",
    "FETCH_REPO = False\n",
    "TRANSFORM_DATA = False\n",
    "TRAIN_MODEL = False"
   ]
  },
  {
   "cell_type": "markdown",
   "metadata": {},
   "source": [
    "# 1) Fetching data from API / Loading from a local storage"
   ]
  },
  {
   "cell_type": "code",
   "execution_count": 3,
   "metadata": {
    "execution": {
     "iopub.execute_input": "2024-07-14T20:03:47.365242Z",
     "iopub.status.busy": "2024-07-14T20:03:47.364856Z",
     "iopub.status.idle": "2024-07-14T20:03:47.890459Z",
     "shell.execute_reply": "2024-07-14T20:03:47.889824Z",
     "shell.execute_reply.started": "2024-07-14T20:03:47.365216Z"
    }
   },
   "outputs": [],
   "source": [
    "repo = DataRepository()\n",
    "if FETCH_REPO:\n",
    "    # Fetch All 3 datasets for all dates from APIs\n",
    "    repo.fetch()\n",
    "    # save data to a local dir\n",
    "    repo.persist(data_dir=\"local_data/\")\n",
    "else:\n",
    "    # OR Load from disk\n",
    "    repo.load(data_dir=\"local_data/\")\n",
    "\n",
    "\n",
    "# DEBUG: Separate fetching of the datasets (YFinance-Tickers, YFinance-Indexes, FRED-Macro)\n",
    "# repo.fetch_indexes()\n",
    "# repo.fetch_tickers()\n",
    "# repo.fetch_macro()"
   ]
  },
  {
   "cell_type": "code",
   "execution_count": 4,
   "metadata": {
    "execution": {
     "iopub.execute_input": "2024-07-14T20:03:47.891674Z",
     "iopub.status.busy": "2024-07-14T20:03:47.891356Z",
     "iopub.status.idle": "2024-07-14T20:03:48.009327Z",
     "shell.execute_reply": "2024-07-14T20:03:48.008563Z",
     "shell.execute_reply.started": "2024-07-14T20:03:47.891650Z"
    }
   },
   "outputs": [
    {
     "data": {
      "text/plain": [
       "max      2024-07-12\n",
       "count        735098\n",
       "min      1970-01-02\n",
       "Name: Date, dtype: object"
      ]
     },
     "execution_count": 4,
     "metadata": {},
     "output_type": "execute_result"
    }
   ],
   "source": [
    "repo.ticker_df.Date.agg({\"min\", \"max\", \"count\"})"
   ]
  },
  {
   "cell_type": "code",
   "execution_count": 5,
   "metadata": {
    "execution": {
     "iopub.execute_input": "2024-07-14T20:03:48.010504Z",
     "iopub.status.busy": "2024-07-14T20:03:48.010204Z",
     "iopub.status.idle": "2024-07-14T20:03:48.047815Z",
     "shell.execute_reply": "2024-07-14T20:03:48.047156Z",
     "shell.execute_reply.started": "2024-07-14T20:03:48.010481Z"
    }
   },
   "outputs": [
    {
     "data": {
      "text/plain": [
       "87"
      ]
     },
     "execution_count": 5,
     "metadata": {},
     "output_type": "execute_result"
    }
   ],
   "source": [
    "repo.ticker_df.Ticker.nunique()"
   ]
  },
  {
   "cell_type": "code",
   "execution_count": 6,
   "metadata": {
    "execution": {
     "iopub.execute_input": "2024-07-14T20:03:48.048908Z",
     "iopub.status.busy": "2024-07-14T20:03:48.048631Z",
     "iopub.status.idle": "2024-07-14T20:03:48.354851Z",
     "shell.execute_reply": "2024-07-14T20:03:48.354078Z",
     "shell.execute_reply.started": "2024-07-14T20:03:48.048885Z"
    }
   },
   "outputs": [
    {
     "data": {
      "image/png": "[encoded data removed]",
      "text/plain": [
       "<Figure size 640x480 with 1 Axes>"
      ]
     },
     "metadata": {},
     "output_type": "display_data"
    }
   ],
   "source": [
    "repo.ticker_df.groupby(\"Date\")[\"Open\"].agg(\"count\").plot()\n",
    "plt.title(\"How quicky tickers data appear in the dataframe?\")\n",
    "plt.show()"
   ]
  },
  {
   "cell_type": "code",
   "execution_count": 7,
   "metadata": {
    "execution": {
     "iopub.execute_input": "2024-07-14T20:03:48.359082Z",
     "iopub.status.busy": "2024-07-14T20:03:48.358653Z",
     "iopub.status.idle": "2024-07-14T20:03:48.364733Z",
     "shell.execute_reply": "2024-07-14T20:03:48.363873Z",
     "shell.execute_reply.started": "2024-07-14T20:03:48.359042Z"
    }
   },
   "outputs": [
    {
     "data": {
      "text/plain": [
       "(13752, 49)"
      ]
     },
     "execution_count": 7,
     "metadata": {},
     "output_type": "execute_result"
    }
   ],
   "source": [
    "repo.indexes_df.shape"
   ]
  },
  {
   "cell_type": "code",
   "execution_count": 8,
   "metadata": {
    "execution": {
     "iopub.execute_input": "2024-07-14T20:03:48.366421Z",
     "iopub.status.busy": "2024-07-14T20:03:48.366000Z",
     "iopub.status.idle": "2024-07-14T20:03:48.389383Z",
     "shell.execute_reply": "2024-07-14T20:03:48.388784Z",
     "shell.execute_reply.started": "2024-07-14T20:03:48.366380Z"
    }
   },
   "outputs": [
    {
     "data": {
      "text/html": [
       "<div>\n",
       "<style scoped>\n",
       "    .dataframe tbody tr th:only-of-type {\n",
       "        vertical-align: middle;\n",
       "    }\n",
       "\n",
       "    .dataframe tbody tr th {\n",
       "        vertical-align: top;\n",
       "    }\n",
       "\n",
       "    .dataframe thead th {\n",
       "        text-align: right;\n",
       "    }\n",
       "</style>\n",
       "<table border=\"1\" class=\"dataframe\">\n",
       "  <thead>\n",
       "    <tr style=\"text-align: right;\">\n",
       "      <th></th>\n",
       "      <th>growth_snp500_1d</th>\n",
       "      <th>growth_snp500_3d</th>\n",
       "      <th>growth_snp500_7d</th>\n",
       "      <th>growth_snp500_30d</th>\n",
       "      <th>growth_snp500_90d</th>\n",
       "      <th>growth_snp500_365d</th>\n",
       "      <th>growth_dax_1d</th>\n",
       "      <th>growth_dax_3d</th>\n",
       "      <th>growth_dax_7d</th>\n",
       "      <th>growth_dax_30d</th>\n",
       "      <th>...</th>\n",
       "      <th>growth_brent_oil_7d</th>\n",
       "      <th>growth_brent_oil_30d</th>\n",
       "      <th>growth_brent_oil_90d</th>\n",
       "      <th>growth_brent_oil_365d</th>\n",
       "      <th>growth_btc_usd_1d</th>\n",
       "      <th>growth_btc_usd_3d</th>\n",
       "      <th>growth_btc_usd_7d</th>\n",
       "      <th>growth_btc_usd_30d</th>\n",
       "      <th>growth_btc_usd_90d</th>\n",
       "      <th>growth_btc_usd_365d</th>\n",
       "    </tr>\n",
       "    <tr>\n",
       "      <th>Date</th>\n",
       "      <th></th>\n",
       "      <th></th>\n",
       "      <th></th>\n",
       "      <th></th>\n",
       "      <th></th>\n",
       "      <th></th>\n",
       "      <th></th>\n",
       "      <th></th>\n",
       "      <th></th>\n",
       "      <th></th>\n",
       "      <th></th>\n",
       "      <th></th>\n",
       "      <th></th>\n",
       "      <th></th>\n",
       "      <th></th>\n",
       "      <th></th>\n",
       "      <th></th>\n",
       "      <th></th>\n",
       "      <th></th>\n",
       "      <th></th>\n",
       "      <th></th>\n",
       "    </tr>\n",
       "  </thead>\n",
       "  <tbody>\n",
       "    <tr>\n",
       "      <th>2024-07-12</th>\n",
       "      <td>1.005517</td>\n",
       "      <td>1.00688</td>\n",
       "      <td>1.019303</td>\n",
       "      <td>1.066148</td>\n",
       "      <td>1.094407</td>\n",
       "      <td>1.379503</td>\n",
       "      <td>1.011525</td>\n",
       "      <td>1.028076</td>\n",
       "      <td>1.020335</td>\n",
       "      <td>1.013528</td>\n",
       "      <td>...</td>\n",
       "      <td>0.985738</td>\n",
       "      <td>1.016866</td>\n",
       "      <td>1.026691</td>\n",
       "      <td>1.001296</td>\n",
       "      <td>1.00967</td>\n",
       "      <td>0.998108</td>\n",
       "      <td>1.021833</td>\n",
       "      <td>0.848453</td>\n",
       "      <td>0.90721</td>\n",
       "      <td>1.839477</td>\n",
       "    </tr>\n",
       "  </tbody>\n",
       "</table>\n",
       "<p>1 rows × 49 columns</p>\n",
       "</div>"
      ],
      "text/plain": [
       "            growth_snp500_1d  growth_snp500_3d  growth_snp500_7d  \\\n",
       "Date                                                               \n",
       "2024-07-12          1.005517           1.00688          1.019303   \n",
       "\n",
       "            growth_snp500_30d  growth_snp500_90d  growth_snp500_365d  \\\n",
       "Date                                                                   \n",
       "2024-07-12           1.066148           1.094407            1.379503   \n",
       "\n",
       "            growth_dax_1d  growth_dax_3d  growth_dax_7d  growth_dax_30d  ...  \\\n",
       "Date                                                                     ...   \n",
       "2024-07-12       1.011525       1.028076       1.020335        1.013528  ...   \n",
       "\n",
       "            growth_brent_oil_7d  growth_brent_oil_30d  growth_brent_oil_90d  \\\n",
       "Date                                                                          \n",
       "2024-07-12             0.985738              1.016866              1.026691   \n",
       "\n",
       "            growth_brent_oil_365d  growth_btc_usd_1d  growth_btc_usd_3d  \\\n",
       "Date                                                                      \n",
       "2024-07-12               1.001296            1.00967           0.998108   \n",
       "\n",
       "            growth_btc_usd_7d  growth_btc_usd_30d  growth_btc_usd_90d  \\\n",
       "Date                                                                    \n",
       "2024-07-12           1.021833            0.848453             0.90721   \n",
       "\n",
       "            growth_btc_usd_365d  \n",
       "Date                             \n",
       "2024-07-12             1.839477  \n",
       "\n",
       "[1 rows x 49 columns]"
      ]
     },
     "execution_count": 8,
     "metadata": {},
     "output_type": "execute_result"
    }
   ],
   "source": [
    "repo.indexes_df.tail(1)"
   ]
  },
  {
   "cell_type": "code",
   "execution_count": 9,
   "metadata": {
    "execution": {
     "iopub.execute_input": "2024-07-14T20:03:48.390673Z",
     "iopub.status.busy": "2024-07-14T20:03:48.390358Z",
     "iopub.status.idle": "2024-07-14T20:03:48.401685Z",
     "shell.execute_reply": "2024-07-14T20:03:48.400837Z",
     "shell.execute_reply.started": "2024-07-14T20:03:48.390650Z"
    }
   },
   "outputs": [
    {
     "data": {
      "text/html": [
       "<div>\n",
       "<style scoped>\n",
       "    .dataframe tbody tr th:only-of-type {\n",
       "        vertical-align: middle;\n",
       "    }\n",
       "\n",
       "    .dataframe tbody tr th {\n",
       "        vertical-align: top;\n",
       "    }\n",
       "\n",
       "    .dataframe thead th {\n",
       "        text-align: right;\n",
       "    }\n",
       "</style>\n",
       "<table border=\"1\" class=\"dataframe\">\n",
       "  <thead>\n",
       "    <tr style=\"text-align: right;\">\n",
       "      <th></th>\n",
       "      <th>DGS1</th>\n",
       "      <th>DGS5</th>\n",
       "      <th>Date</th>\n",
       "      <th>Quarter</th>\n",
       "      <th>gdppot_us_yoy</th>\n",
       "      <th>gdppot_us_qoq</th>\n",
       "      <th>Month</th>\n",
       "      <th>FEDFUNDS</th>\n",
       "      <th>cpi_core_yoy</th>\n",
       "      <th>cpi_core_mom</th>\n",
       "      <th>DGS10</th>\n",
       "    </tr>\n",
       "    <tr>\n",
       "      <th>DATE</th>\n",
       "      <th></th>\n",
       "      <th></th>\n",
       "      <th></th>\n",
       "      <th></th>\n",
       "      <th></th>\n",
       "      <th></th>\n",
       "      <th></th>\n",
       "      <th></th>\n",
       "      <th></th>\n",
       "      <th></th>\n",
       "      <th></th>\n",
       "    </tr>\n",
       "  </thead>\n",
       "  <tbody>\n",
       "    <tr>\n",
       "      <th>2024-07-11</th>\n",
       "      <td>4.91</td>\n",
       "      <td>4.13</td>\n",
       "      <td>2024-07-11</td>\n",
       "      <td>2024-07-01</td>\n",
       "      <td>0.020675</td>\n",
       "      <td>0.005201</td>\n",
       "      <td>2024-07-01</td>\n",
       "      <td>5.33</td>\n",
       "      <td>0.032769</td>\n",
       "      <td>0.000648</td>\n",
       "      <td>4.2</td>\n",
       "    </tr>\n",
       "  </tbody>\n",
       "</table>\n",
       "</div>"
      ],
      "text/plain": [
       "            DGS1  DGS5       Date    Quarter  gdppot_us_yoy  gdppot_us_qoq  \\\n",
       "DATE                                                                         \n",
       "2024-07-11  4.91  4.13 2024-07-11 2024-07-01       0.020675       0.005201   \n",
       "\n",
       "                Month  FEDFUNDS  cpi_core_yoy  cpi_core_mom  DGS10  \n",
       "DATE                                                                \n",
       "2024-07-11 2024-07-01      5.33      0.032769      0.000648    4.2  "
      ]
     },
     "execution_count": 9,
     "metadata": {},
     "output_type": "execute_result"
    }
   ],
   "source": [
    "repo.macro_df.tail(1)"
   ]
  },
  {
   "cell_type": "markdown",
   "metadata": {},
   "source": [
    "# 2) Transform all input fields (data_repo dfs) to one dataframe"
   ]
  },
  {
   "cell_type": "code",
   "execution_count": 10,
   "metadata": {
    "execution": {
     "iopub.execute_input": "2024-07-14T20:03:48.403004Z",
     "iopub.status.busy": "2024-07-14T20:03:48.402695Z",
     "iopub.status.idle": "2024-07-14T20:03:49.804379Z",
     "shell.execute_reply": "2024-07-14T20:03:49.803733Z",
     "shell.execute_reply.started": "2024-07-14T20:03:48.402973Z"
    }
   },
   "outputs": [],
   "source": [
    "transformed = TransformData(repo=repo)\n",
    "\n",
    "if TRANSFORM_DATA:\n",
    "    transformed.transform()\n",
    "    transformed.persist(data_dir=\"local_data/\")\n",
    "else:\n",
    "    transformed.load(data_dir=\"local_data/\")"
   ]
  },
  {
   "cell_type": "code",
   "execution_count": 11,
   "metadata": {
    "execution": {
     "iopub.execute_input": "2024-07-14T20:03:49.805667Z",
     "iopub.status.busy": "2024-07-14T20:03:49.805353Z",
     "iopub.status.idle": "2024-07-14T20:03:49.820043Z",
     "shell.execute_reply": "2024-07-14T20:03:49.819200Z",
     "shell.execute_reply.started": "2024-07-14T20:03:49.805640Z"
    }
   },
   "outputs": [
    {
     "name": "stdout",
     "output_type": "stream",
     "text": [
      "<class 'pandas.core.frame.DataFrame'>\n",
      "Index: 487820 entries, 0 to 11173\n",
      "Columns: 203 entries, Open to growth_btc_usd_365d\n",
      "dtypes: datetime64[ns, UTC](1), datetime64[ns](2), float64(128), int32(65), int64(5), object(2)\n",
      "memory usage: 638.3+ MB\n"
     ]
    }
   ],
   "source": [
    "transformed.transformed_df.info()"
   ]
  },
  {
   "cell_type": "code",
   "execution_count": 12,
   "metadata": {
    "execution": {
     "iopub.execute_input": "2024-07-14T20:03:49.821767Z",
     "iopub.status.busy": "2024-07-14T20:03:49.821215Z",
     "iopub.status.idle": "2024-07-14T20:03:49.838570Z",
     "shell.execute_reply": "2024-07-14T20:03:49.837692Z",
     "shell.execute_reply.started": "2024-07-14T20:03:49.821743Z"
    }
   },
   "outputs": [
    {
     "data": {
      "text/html": [
       "<div>\n",
       "<style scoped>\n",
       "    .dataframe tbody tr th:only-of-type {\n",
       "        vertical-align: middle;\n",
       "    }\n",
       "\n",
       "    .dataframe tbody tr th {\n",
       "        vertical-align: top;\n",
       "    }\n",
       "\n",
       "    .dataframe thead th {\n",
       "        text-align: right;\n",
       "    }\n",
       "</style>\n",
       "<table border=\"1\" class=\"dataframe\">\n",
       "  <thead>\n",
       "    <tr style=\"text-align: right;\">\n",
       "      <th></th>\n",
       "      <th>Open</th>\n",
       "      <th>High</th>\n",
       "      <th>Low</th>\n",
       "      <th>Close</th>\n",
       "      <th>Adj Close</th>\n",
       "      <th>Volume</th>\n",
       "      <th>ticker_type</th>\n",
       "      <th>Ticker</th>\n",
       "      <th>Year</th>\n",
       "      <th>Month_x</th>\n",
       "      <th>...</th>\n",
       "      <th>growth_brent_oil_7d</th>\n",
       "      <th>growth_brent_oil_30d</th>\n",
       "      <th>growth_brent_oil_90d</th>\n",
       "      <th>growth_brent_oil_365d</th>\n",
       "      <th>growth_btc_usd_1d</th>\n",
       "      <th>growth_btc_usd_3d</th>\n",
       "      <th>growth_btc_usd_7d</th>\n",
       "      <th>growth_btc_usd_30d</th>\n",
       "      <th>growth_btc_usd_90d</th>\n",
       "      <th>growth_btc_usd_365d</th>\n",
       "    </tr>\n",
       "  </thead>\n",
       "  <tbody>\n",
       "    <tr>\n",
       "      <th>11172</th>\n",
       "      <td>255.570007</td>\n",
       "      <td>255.570007</td>\n",
       "      <td>241.100006</td>\n",
       "      <td>241.259995</td>\n",
       "      <td>241.259995</td>\n",
       "      <td>5623800.0</td>\n",
       "      <td>US</td>\n",
       "      <td>AMAT</td>\n",
       "      <td>2024</td>\n",
       "      <td>7</td>\n",
       "      <td>...</td>\n",
       "      <td>0.986143</td>\n",
       "      <td>1.014011</td>\n",
       "      <td>1.022142</td>\n",
       "      <td>0.985460</td>\n",
       "      <td>0.993115</td>\n",
       "      <td>1.011283</td>\n",
       "      <td>1.006445</td>\n",
       "      <td>0.851674</td>\n",
       "      <td>0.853399</td>\n",
       "      <td>1.886864</td>\n",
       "    </tr>\n",
       "    <tr>\n",
       "      <th>11173</th>\n",
       "      <td>241.610001</td>\n",
       "      <td>248.770004</td>\n",
       "      <td>240.539993</td>\n",
       "      <td>243.399994</td>\n",
       "      <td>243.399994</td>\n",
       "      <td>5395200.0</td>\n",
       "      <td>US</td>\n",
       "      <td>AMAT</td>\n",
       "      <td>2024</td>\n",
       "      <td>7</td>\n",
       "      <td>...</td>\n",
       "      <td>0.985738</td>\n",
       "      <td>1.016866</td>\n",
       "      <td>1.026691</td>\n",
       "      <td>1.001296</td>\n",
       "      <td>1.009670</td>\n",
       "      <td>0.998108</td>\n",
       "      <td>1.021833</td>\n",
       "      <td>0.848453</td>\n",
       "      <td>0.907210</td>\n",
       "      <td>1.839477</td>\n",
       "    </tr>\n",
       "  </tbody>\n",
       "</table>\n",
       "<p>2 rows × 203 columns</p>\n",
       "</div>"
      ],
      "text/plain": [
       "             Open        High         Low       Close   Adj Close     Volume  \\\n",
       "11172  255.570007  255.570007  241.100006  241.259995  241.259995  5623800.0   \n",
       "11173  241.610001  248.770004  240.539993  243.399994  243.399994  5395200.0   \n",
       "\n",
       "      ticker_type Ticker  Year  Month_x  ...  growth_brent_oil_7d  \\\n",
       "11172          US   AMAT  2024        7  ...             0.986143   \n",
       "11173          US   AMAT  2024        7  ...             0.985738   \n",
       "\n",
       "      growth_brent_oil_30d  growth_brent_oil_90d  growth_brent_oil_365d  \\\n",
       "11172             1.014011              1.022142               0.985460   \n",
       "11173             1.016866              1.026691               1.001296   \n",
       "\n",
       "       growth_btc_usd_1d  growth_btc_usd_3d  growth_btc_usd_7d  \\\n",
       "11172           0.993115           1.011283           1.006445   \n",
       "11173           1.009670           0.998108           1.021833   \n",
       "\n",
       "       growth_btc_usd_30d  growth_btc_usd_90d  growth_btc_usd_365d  \n",
       "11172            0.851674            0.853399             1.886864  \n",
       "11173            0.848453            0.907210             1.839477  \n",
       "\n",
       "[2 rows x 203 columns]"
      ]
     },
     "execution_count": 12,
     "metadata": {},
     "output_type": "execute_result"
    }
   ],
   "source": [
    "transformed.transformed_df.tail(2)"
   ]
  },
  {
   "cell_type": "code",
   "execution_count": 13,
   "metadata": {
    "execution": {
     "iopub.execute_input": "2024-07-14T20:03:49.840455Z",
     "iopub.status.busy": "2024-07-14T20:03:49.839876Z",
     "iopub.status.idle": "2024-07-14T20:03:49.846998Z",
     "shell.execute_reply": "2024-07-14T20:03:49.846291Z",
     "shell.execute_reply.started": "2024-07-14T20:03:49.840419Z"
    }
   },
   "outputs": [
    {
     "data": {
      "text/plain": [
       "11171   2024-07-10 00:00:00+00:00\n",
       "11172   2024-07-11 00:00:00+00:00\n",
       "11173   2024-07-12 00:00:00+00:00\n",
       "Name: Date, dtype: datetime64[ns, UTC]"
      ]
     },
     "execution_count": 13,
     "metadata": {},
     "output_type": "execute_result"
    }
   ],
   "source": [
    "# last 3 days of the data\n",
    "transformed.transformed_df.tail(3)[\"Date\"]"
   ]
  },
  {
   "cell_type": "markdown",
   "metadata": {},
   "source": [
    "# 3) Train the best model \n",
    "* Model : Random Forest(max_depth=17, n_estimators=200)"
   ]
  },
  {
   "cell_type": "code",
   "execution_count": 14,
   "metadata": {
    "execution": {
     "iopub.execute_input": "2024-07-14T20:03:49.848469Z",
     "iopub.status.busy": "2024-07-14T20:03:49.848112Z",
     "iopub.status.idle": "2024-07-14T20:03:59.608368Z",
     "shell.execute_reply": "2024-07-14T20:03:59.607454Z",
     "shell.execute_reply.started": "2024-07-14T20:03:49.848445Z"
    }
   },
   "outputs": [
    {
     "name": "stdout",
     "output_type": "stream",
     "text": [
      "Prepare the dataframe: define feature sets, add dummies, temporal split\n",
      "length: X_train (329010, 295),  X_validation (79169, 295), X_test (79641, 295)\n",
      "  X_train_valid = (408179, 295),  all combined: X_all (487820, 295)\n"
     ]
    }
   ],
   "source": [
    "# Suppress all warnings (not recommended in production unless necessary)\n",
    "warnings.filterwarnings(\"ignore\")\n",
    "\n",
    "trained = TrainModel(transformed=transformed)\n",
    "\n",
    "if TRAIN_MODEL:\n",
    "    trained.prepare_dataframe()  # prepare dataframes\n",
    "    trained.train_random_forest()  # train the model\n",
    "    trained.persist(data_dir=\"local_data/\")  # save the model to disk\n",
    "else:\n",
    "    trained.prepare_dataframe()  # prepare dataframes (incl. for inference)\n",
    "    trained.load(data_dir=\"local_data/\")"
   ]
  },
  {
   "cell_type": "code",
   "execution_count": 15,
   "metadata": {
    "execution": {
     "iopub.execute_input": "2024-07-14T20:03:59.609569Z",
     "iopub.status.busy": "2024-07-14T20:03:59.609267Z",
     "iopub.status.idle": "2024-07-14T20:03:59.624631Z",
     "shell.execute_reply": "2024-07-14T20:03:59.623787Z",
     "shell.execute_reply.started": "2024-07-14T20:03:59.609544Z"
    }
   },
   "outputs": [
    {
     "data": {
      "text/html": [
       "<div>\n",
       "<style scoped>\n",
       "    .dataframe tbody tr th:only-of-type {\n",
       "        vertical-align: middle;\n",
       "    }\n",
       "\n",
       "    .dataframe tbody tr th {\n",
       "        vertical-align: top;\n",
       "    }\n",
       "\n",
       "    .dataframe thead th {\n",
       "        text-align: right;\n",
       "    }\n",
       "</style>\n",
       "<table border=\"1\" class=\"dataframe\">\n",
       "  <thead>\n",
       "    <tr style=\"text-align: right;\">\n",
       "      <th></th>\n",
       "      <th>Open</th>\n",
       "      <th>High</th>\n",
       "      <th>Low</th>\n",
       "      <th>Close</th>\n",
       "      <th>Adj Close</th>\n",
       "      <th>Volume</th>\n",
       "      <th>ticker_type</th>\n",
       "      <th>Ticker</th>\n",
       "      <th>Year</th>\n",
       "      <th>Month_x</th>\n",
       "      <th>...</th>\n",
       "      <th>Ticker_V</th>\n",
       "      <th>Ticker_VZ</th>\n",
       "      <th>Ticker_WFC</th>\n",
       "      <th>Ticker_WMT</th>\n",
       "      <th>Ticker_XOM</th>\n",
       "      <th>ticker_type_CAP_GAIN</th>\n",
       "      <th>ticker_type_EU</th>\n",
       "      <th>ticker_type_JAPAN</th>\n",
       "      <th>ticker_type_US</th>\n",
       "      <th>split</th>\n",
       "    </tr>\n",
       "  </thead>\n",
       "  <tbody>\n",
       "    <tr>\n",
       "      <th>11172</th>\n",
       "      <td>255.570007</td>\n",
       "      <td>255.570007</td>\n",
       "      <td>241.100006</td>\n",
       "      <td>241.259995</td>\n",
       "      <td>241.259995</td>\n",
       "      <td>5623800.0</td>\n",
       "      <td>US</td>\n",
       "      <td>AMAT</td>\n",
       "      <td>2024</td>\n",
       "      <td>7</td>\n",
       "      <td>...</td>\n",
       "      <td>0</td>\n",
       "      <td>0</td>\n",
       "      <td>0</td>\n",
       "      <td>0</td>\n",
       "      <td>0</td>\n",
       "      <td>0</td>\n",
       "      <td>0</td>\n",
       "      <td>0</td>\n",
       "      <td>1</td>\n",
       "      <td>test</td>\n",
       "    </tr>\n",
       "    <tr>\n",
       "      <th>11173</th>\n",
       "      <td>241.610001</td>\n",
       "      <td>248.770004</td>\n",
       "      <td>240.539993</td>\n",
       "      <td>243.399994</td>\n",
       "      <td>243.399994</td>\n",
       "      <td>5395200.0</td>\n",
       "      <td>US</td>\n",
       "      <td>AMAT</td>\n",
       "      <td>2024</td>\n",
       "      <td>7</td>\n",
       "      <td>...</td>\n",
       "      <td>0</td>\n",
       "      <td>0</td>\n",
       "      <td>0</td>\n",
       "      <td>0</td>\n",
       "      <td>0</td>\n",
       "      <td>0</td>\n",
       "      <td>0</td>\n",
       "      <td>0</td>\n",
       "      <td>1</td>\n",
       "      <td>test</td>\n",
       "    </tr>\n",
       "  </tbody>\n",
       "</table>\n",
       "<p>2 rows × 316 columns</p>\n",
       "</div>"
      ],
      "text/plain": [
       "             Open        High         Low       Close   Adj Close     Volume  \\\n",
       "11172  255.570007  255.570007  241.100006  241.259995  241.259995  5623800.0   \n",
       "11173  241.610001  248.770004  240.539993  243.399994  243.399994  5395200.0   \n",
       "\n",
       "      ticker_type Ticker  Year  Month_x  ... Ticker_V Ticker_VZ  Ticker_WFC  \\\n",
       "11172          US   AMAT  2024        7  ...        0         0           0   \n",
       "11173          US   AMAT  2024        7  ...        0         0           0   \n",
       "\n",
       "       Ticker_WMT  Ticker_XOM  ticker_type_CAP_GAIN  ticker_type_EU  \\\n",
       "11172           0           0                     0               0   \n",
       "11173           0           0                     0               0   \n",
       "\n",
       "       ticker_type_JAPAN  ticker_type_US  split  \n",
       "11172                  0               1   test  \n",
       "11173                  0               1   test  \n",
       "\n",
       "[2 rows x 316 columns]"
      ]
     },
     "execution_count": 15,
     "metadata": {},
     "output_type": "execute_result"
    }
   ],
   "source": [
    "# resulting df\n",
    "trained.df_full.tail(2)"
   ]
  },
  {
   "cell_type": "markdown",
   "metadata": {},
   "source": [
    "# 4) Inference"
   ]
  },
  {
   "cell_type": "code",
   "execution_count": 16,
   "metadata": {
    "execution": {
     "iopub.execute_input": "2024-07-14T20:03:59.626135Z",
     "iopub.status.busy": "2024-07-14T20:03:59.625868Z",
     "iopub.status.idle": "2024-07-14T20:04:07.356864Z",
     "shell.execute_reply": "2024-07-14T20:04:07.356215Z",
     "shell.execute_reply.started": "2024-07-14T20:03:59.626111Z"
    }
   },
   "outputs": [
    {
     "name": "stdout",
     "output_type": "stream",
     "text": [
      "Making inference\n",
      "before 0\n",
      "0\n",
      "before 121955\n",
      "121955\n",
      "before 243910\n",
      "243910\n",
      "before 365865\n",
      "365865\n"
     ]
    }
   ],
   "source": [
    "prediction_name = \"pred_rf_best\"\n",
    "trained.make_inference(pred_name=prediction_name)"
   ]
  },
  {
   "cell_type": "code",
   "execution_count": 17,
   "metadata": {
    "execution": {
     "iopub.execute_input": "2024-07-14T20:04:07.358094Z",
     "iopub.status.busy": "2024-07-14T20:04:07.357773Z",
     "iopub.status.idle": "2024-07-14T20:04:07.534158Z",
     "shell.execute_reply": "2024-07-14T20:04:07.533406Z",
     "shell.execute_reply.started": "2024-07-14T20:04:07.358070Z"
    }
   },
   "outputs": [
    {
     "data": {
      "text/html": [
       "<div>\n",
       "<style scoped>\n",
       "    .dataframe tbody tr th:only-of-type {\n",
       "        vertical-align: middle;\n",
       "    }\n",
       "\n",
       "    .dataframe tbody tr th {\n",
       "        vertical-align: top;\n",
       "    }\n",
       "\n",
       "    .dataframe thead th {\n",
       "        text-align: right;\n",
       "    }\n",
       "</style>\n",
       "<table border=\"1\" class=\"dataframe\">\n",
       "  <thead>\n",
       "    <tr style=\"text-align: right;\">\n",
       "      <th></th>\n",
       "      <th>Open</th>\n",
       "      <th>High</th>\n",
       "      <th>Low</th>\n",
       "      <th>Close</th>\n",
       "      <th>Adj Close</th>\n",
       "      <th>Volume</th>\n",
       "      <th>ticker_type</th>\n",
       "      <th>Ticker</th>\n",
       "      <th>Year</th>\n",
       "      <th>Month_x</th>\n",
       "      <th>...</th>\n",
       "      <th>Ticker_WFC</th>\n",
       "      <th>Ticker_WMT</th>\n",
       "      <th>Ticker_XOM</th>\n",
       "      <th>ticker_type_CAP_GAIN</th>\n",
       "      <th>ticker_type_EU</th>\n",
       "      <th>ticker_type_JAPAN</th>\n",
       "      <th>ticker_type_US</th>\n",
       "      <th>split</th>\n",
       "      <th>pred_rf_best</th>\n",
       "      <th>pred_rf_best_rank</th>\n",
       "    </tr>\n",
       "  </thead>\n",
       "  <tbody>\n",
       "    <tr>\n",
       "      <th>0</th>\n",
       "      <td>4.030000</td>\n",
       "      <td>4.605000</td>\n",
       "      <td>4.020000</td>\n",
       "      <td>4.600000</td>\n",
       "      <td>4.209763</td>\n",
       "      <td>395343000.0</td>\n",
       "      <td>US</td>\n",
       "      <td>MA</td>\n",
       "      <td>2006</td>\n",
       "      <td>5</td>\n",
       "      <td>...</td>\n",
       "      <td>0</td>\n",
       "      <td>0</td>\n",
       "      <td>0</td>\n",
       "      <td>0</td>\n",
       "      <td>0</td>\n",
       "      <td>0</td>\n",
       "      <td>1</td>\n",
       "      <td>train</td>\n",
       "      <td>0.422924</td>\n",
       "      <td>53.0</td>\n",
       "    </tr>\n",
       "    <tr>\n",
       "      <th>1</th>\n",
       "      <td>4.630000</td>\n",
       "      <td>4.674000</td>\n",
       "      <td>4.411000</td>\n",
       "      <td>4.493000</td>\n",
       "      <td>4.111840</td>\n",
       "      <td>103044000.0</td>\n",
       "      <td>US</td>\n",
       "      <td>MA</td>\n",
       "      <td>2006</td>\n",
       "      <td>5</td>\n",
       "      <td>...</td>\n",
       "      <td>0</td>\n",
       "      <td>0</td>\n",
       "      <td>0</td>\n",
       "      <td>0</td>\n",
       "      <td>0</td>\n",
       "      <td>0</td>\n",
       "      <td>1</td>\n",
       "      <td>train</td>\n",
       "      <td>0.500914</td>\n",
       "      <td>43.0</td>\n",
       "    </tr>\n",
       "    <tr>\n",
       "      <th>2</th>\n",
       "      <td>4.497000</td>\n",
       "      <td>4.498000</td>\n",
       "      <td>4.285000</td>\n",
       "      <td>4.400000</td>\n",
       "      <td>4.026731</td>\n",
       "      <td>49898000.0</td>\n",
       "      <td>US</td>\n",
       "      <td>MA</td>\n",
       "      <td>2006</td>\n",
       "      <td>5</td>\n",
       "      <td>...</td>\n",
       "      <td>0</td>\n",
       "      <td>0</td>\n",
       "      <td>0</td>\n",
       "      <td>0</td>\n",
       "      <td>0</td>\n",
       "      <td>0</td>\n",
       "      <td>1</td>\n",
       "      <td>train</td>\n",
       "      <td>0.475185</td>\n",
       "      <td>48.0</td>\n",
       "    </tr>\n",
       "    <tr>\n",
       "      <th>3</th>\n",
       "      <td>4.435000</td>\n",
       "      <td>4.536000</td>\n",
       "      <td>4.435000</td>\n",
       "      <td>4.494000</td>\n",
       "      <td>4.112754</td>\n",
       "      <td>30002000.0</td>\n",
       "      <td>US</td>\n",
       "      <td>MA</td>\n",
       "      <td>2006</td>\n",
       "      <td>5</td>\n",
       "      <td>...</td>\n",
       "      <td>0</td>\n",
       "      <td>0</td>\n",
       "      <td>0</td>\n",
       "      <td>0</td>\n",
       "      <td>0</td>\n",
       "      <td>0</td>\n",
       "      <td>1</td>\n",
       "      <td>train</td>\n",
       "      <td>0.493673</td>\n",
       "      <td>41.0</td>\n",
       "    </tr>\n",
       "    <tr>\n",
       "      <th>4</th>\n",
       "      <td>4.493000</td>\n",
       "      <td>4.810000</td>\n",
       "      <td>4.490000</td>\n",
       "      <td>4.751000</td>\n",
       "      <td>4.347953</td>\n",
       "      <td>62344000.0</td>\n",
       "      <td>US</td>\n",
       "      <td>MA</td>\n",
       "      <td>2006</td>\n",
       "      <td>6</td>\n",
       "      <td>...</td>\n",
       "      <td>0</td>\n",
       "      <td>0</td>\n",
       "      <td>0</td>\n",
       "      <td>0</td>\n",
       "      <td>0</td>\n",
       "      <td>0</td>\n",
       "      <td>1</td>\n",
       "      <td>train</td>\n",
       "      <td>0.496038</td>\n",
       "      <td>42.0</td>\n",
       "    </tr>\n",
       "    <tr>\n",
       "      <th>...</th>\n",
       "      <td>...</td>\n",
       "      <td>...</td>\n",
       "      <td>...</td>\n",
       "      <td>...</td>\n",
       "      <td>...</td>\n",
       "      <td>...</td>\n",
       "      <td>...</td>\n",
       "      <td>...</td>\n",
       "      <td>...</td>\n",
       "      <td>...</td>\n",
       "      <td>...</td>\n",
       "      <td>...</td>\n",
       "      <td>...</td>\n",
       "      <td>...</td>\n",
       "      <td>...</td>\n",
       "      <td>...</td>\n",
       "      <td>...</td>\n",
       "      <td>...</td>\n",
       "      <td>...</td>\n",
       "      <td>...</td>\n",
       "      <td>...</td>\n",
       "    </tr>\n",
       "    <tr>\n",
       "      <th>11169</th>\n",
       "      <td>243.110001</td>\n",
       "      <td>247.179993</td>\n",
       "      <td>243.110001</td>\n",
       "      <td>246.289993</td>\n",
       "      <td>246.289993</td>\n",
       "      <td>3782100.0</td>\n",
       "      <td>US</td>\n",
       "      <td>AMAT</td>\n",
       "      <td>2024</td>\n",
       "      <td>7</td>\n",
       "      <td>...</td>\n",
       "      <td>0</td>\n",
       "      <td>0</td>\n",
       "      <td>0</td>\n",
       "      <td>0</td>\n",
       "      <td>0</td>\n",
       "      <td>0</td>\n",
       "      <td>1</td>\n",
       "      <td>test</td>\n",
       "      <td>0.443051</td>\n",
       "      <td>67.0</td>\n",
       "    </tr>\n",
       "    <tr>\n",
       "      <th>11170</th>\n",
       "      <td>248.000000</td>\n",
       "      <td>252.130005</td>\n",
       "      <td>247.479996</td>\n",
       "      <td>251.470001</td>\n",
       "      <td>251.470001</td>\n",
       "      <td>4889900.0</td>\n",
       "      <td>US</td>\n",
       "      <td>AMAT</td>\n",
       "      <td>2024</td>\n",
       "      <td>7</td>\n",
       "      <td>...</td>\n",
       "      <td>0</td>\n",
       "      <td>0</td>\n",
       "      <td>0</td>\n",
       "      <td>0</td>\n",
       "      <td>0</td>\n",
       "      <td>0</td>\n",
       "      <td>1</td>\n",
       "      <td>test</td>\n",
       "      <td>0.375860</td>\n",
       "      <td>73.0</td>\n",
       "    </tr>\n",
       "    <tr>\n",
       "      <th>11171</th>\n",
       "      <td>253.000000</td>\n",
       "      <td>255.889999</td>\n",
       "      <td>250.660004</td>\n",
       "      <td>254.970001</td>\n",
       "      <td>254.970001</td>\n",
       "      <td>4258100.0</td>\n",
       "      <td>US</td>\n",
       "      <td>AMAT</td>\n",
       "      <td>2024</td>\n",
       "      <td>7</td>\n",
       "      <td>...</td>\n",
       "      <td>0</td>\n",
       "      <td>0</td>\n",
       "      <td>0</td>\n",
       "      <td>0</td>\n",
       "      <td>0</td>\n",
       "      <td>0</td>\n",
       "      <td>1</td>\n",
       "      <td>test</td>\n",
       "      <td>0.403878</td>\n",
       "      <td>74.0</td>\n",
       "    </tr>\n",
       "    <tr>\n",
       "      <th>11172</th>\n",
       "      <td>255.570007</td>\n",
       "      <td>255.570007</td>\n",
       "      <td>241.100006</td>\n",
       "      <td>241.259995</td>\n",
       "      <td>241.259995</td>\n",
       "      <td>5623800.0</td>\n",
       "      <td>US</td>\n",
       "      <td>AMAT</td>\n",
       "      <td>2024</td>\n",
       "      <td>7</td>\n",
       "      <td>...</td>\n",
       "      <td>0</td>\n",
       "      <td>0</td>\n",
       "      <td>0</td>\n",
       "      <td>0</td>\n",
       "      <td>0</td>\n",
       "      <td>0</td>\n",
       "      <td>1</td>\n",
       "      <td>test</td>\n",
       "      <td>0.397757</td>\n",
       "      <td>74.0</td>\n",
       "    </tr>\n",
       "    <tr>\n",
       "      <th>11173</th>\n",
       "      <td>241.610001</td>\n",
       "      <td>248.770004</td>\n",
       "      <td>240.539993</td>\n",
       "      <td>243.399994</td>\n",
       "      <td>243.399994</td>\n",
       "      <td>5395200.0</td>\n",
       "      <td>US</td>\n",
       "      <td>AMAT</td>\n",
       "      <td>2024</td>\n",
       "      <td>7</td>\n",
       "      <td>...</td>\n",
       "      <td>0</td>\n",
       "      <td>0</td>\n",
       "      <td>0</td>\n",
       "      <td>0</td>\n",
       "      <td>0</td>\n",
       "      <td>0</td>\n",
       "      <td>1</td>\n",
       "      <td>test</td>\n",
       "      <td>0.689577</td>\n",
       "      <td>10.0</td>\n",
       "    </tr>\n",
       "  </tbody>\n",
       "</table>\n",
       "<p>487820 rows × 318 columns</p>\n",
       "</div>"
      ],
      "text/plain": [
       "             Open        High         Low       Close   Adj Close  \\\n",
       "0        4.030000    4.605000    4.020000    4.600000    4.209763   \n",
       "1        4.630000    4.674000    4.411000    4.493000    4.111840   \n",
       "2        4.497000    4.498000    4.285000    4.400000    4.026731   \n",
       "3        4.435000    4.536000    4.435000    4.494000    4.112754   \n",
       "4        4.493000    4.810000    4.490000    4.751000    4.347953   \n",
       "...           ...         ...         ...         ...         ...   \n",
       "11169  243.110001  247.179993  243.110001  246.289993  246.289993   \n",
       "11170  248.000000  252.130005  247.479996  251.470001  251.470001   \n",
       "11171  253.000000  255.889999  250.660004  254.970001  254.970001   \n",
       "11172  255.570007  255.570007  241.100006  241.259995  241.259995   \n",
       "11173  241.610001  248.770004  240.539993  243.399994  243.399994   \n",
       "\n",
       "            Volume ticker_type Ticker  Year  Month_x  ... Ticker_WFC  \\\n",
       "0      395343000.0          US     MA  2006        5  ...          0   \n",
       "1      103044000.0          US     MA  2006        5  ...          0   \n",
       "2       49898000.0          US     MA  2006        5  ...          0   \n",
       "3       30002000.0          US     MA  2006        5  ...          0   \n",
       "4       62344000.0          US     MA  2006        6  ...          0   \n",
       "...            ...         ...    ...   ...      ...  ...        ...   \n",
       "11169    3782100.0          US   AMAT  2024        7  ...          0   \n",
       "11170    4889900.0          US   AMAT  2024        7  ...          0   \n",
       "11171    4258100.0          US   AMAT  2024        7  ...          0   \n",
       "11172    5623800.0          US   AMAT  2024        7  ...          0   \n",
       "11173    5395200.0          US   AMAT  2024        7  ...          0   \n",
       "\n",
       "      Ticker_WMT  Ticker_XOM  ticker_type_CAP_GAIN  ticker_type_EU  \\\n",
       "0              0           0                     0               0   \n",
       "1              0           0                     0               0   \n",
       "2              0           0                     0               0   \n",
       "3              0           0                     0               0   \n",
       "4              0           0                     0               0   \n",
       "...          ...         ...                   ...             ...   \n",
       "11169          0           0                     0               0   \n",
       "11170          0           0                     0               0   \n",
       "11171          0           0                     0               0   \n",
       "11172          0           0                     0               0   \n",
       "11173          0           0                     0               0   \n",
       "\n",
       "       ticker_type_JAPAN  ticker_type_US  split  pred_rf_best  \\\n",
       "0                      0               1  train      0.422924   \n",
       "1                      0               1  train      0.500914   \n",
       "2                      0               1  train      0.475185   \n",
       "3                      0               1  train      0.493673   \n",
       "4                      0               1  train      0.496038   \n",
       "...                  ...             ...    ...           ...   \n",
       "11169                  0               1   test      0.443051   \n",
       "11170                  0               1   test      0.375860   \n",
       "11171                  0               1   test      0.403878   \n",
       "11172                  0               1   test      0.397757   \n",
       "11173                  0               1   test      0.689577   \n",
       "\n",
       "       pred_rf_best_rank  \n",
       "0                   53.0  \n",
       "1                   43.0  \n",
       "2                   48.0  \n",
       "3                   41.0  \n",
       "4                   42.0  \n",
       "...                  ...  \n",
       "11169               67.0  \n",
       "11170               73.0  \n",
       "11171               74.0  \n",
       "11172               74.0  \n",
       "11173               10.0  \n",
       "\n",
       "[487820 rows x 318 columns]"
      ]
     },
     "execution_count": 17,
     "metadata": {},
     "output_type": "execute_result"
    }
   ],
   "source": [
    "trained.df_full"
   ]
  },
  {
   "cell_type": "code",
   "execution_count": 18,
   "metadata": {
    "execution": {
     "iopub.execute_input": "2024-07-14T20:04:07.535649Z",
     "iopub.status.busy": "2024-07-14T20:04:07.535229Z",
     "iopub.status.idle": "2024-07-14T20:04:07.573291Z",
     "shell.execute_reply": "2024-07-14T20:04:07.572542Z",
     "shell.execute_reply.started": "2024-07-14T20:04:07.535622Z"
    }
   },
   "outputs": [
    {
     "data": {
      "text/html": [
       "<div>\n",
       "<style scoped>\n",
       "    .dataframe tbody tr th:only-of-type {\n",
       "        vertical-align: middle;\n",
       "    }\n",
       "\n",
       "    .dataframe tbody tr th {\n",
       "        vertical-align: top;\n",
       "    }\n",
       "\n",
       "    .dataframe thead th {\n",
       "        text-align: right;\n",
       "    }\n",
       "</style>\n",
       "<table border=\"1\" class=\"dataframe\">\n",
       "  <thead>\n",
       "    <tr style=\"text-align: right;\">\n",
       "      <th></th>\n",
       "      <th>Adj Close</th>\n",
       "      <th>Ticker</th>\n",
       "      <th>Date</th>\n",
       "      <th>pred_rf_best</th>\n",
       "      <th>pred_rf_best_rank</th>\n",
       "    </tr>\n",
       "  </thead>\n",
       "  <tbody>\n",
       "    <tr>\n",
       "      <th>11165</th>\n",
       "      <td>203.710007</td>\n",
       "      <td>TM</td>\n",
       "      <td>2024-07-01 00:00:00+00:00</td>\n",
       "      <td>0.900537</td>\n",
       "      <td>1.0</td>\n",
       "    </tr>\n",
       "    <tr>\n",
       "      <th>11166</th>\n",
       "      <td>206.210007</td>\n",
       "      <td>TM</td>\n",
       "      <td>2024-07-02 00:00:00+00:00</td>\n",
       "      <td>0.906909</td>\n",
       "      <td>1.0</td>\n",
       "    </tr>\n",
       "    <tr>\n",
       "      <th>3637</th>\n",
       "      <td>24.660000</td>\n",
       "      <td>IDEXY</td>\n",
       "      <td>2024-07-03 00:00:00+00:00</td>\n",
       "      <td>0.870109</td>\n",
       "      <td>1.0</td>\n",
       "    </tr>\n",
       "    <tr>\n",
       "      <th>5434</th>\n",
       "      <td>4020.949951</td>\n",
       "      <td>TCS.NS</td>\n",
       "      <td>2024-07-04 00:00:00+00:00</td>\n",
       "      <td>0.849862</td>\n",
       "      <td>1.0</td>\n",
       "    </tr>\n",
       "    <tr>\n",
       "      <th>3752</th>\n",
       "      <td>170.330994</td>\n",
       "      <td>AVGO</td>\n",
       "      <td>2024-07-05 00:00:00+00:00</td>\n",
       "      <td>0.859494</td>\n",
       "      <td>1.0</td>\n",
       "    </tr>\n",
       "    <tr>\n",
       "      <th>3753</th>\n",
       "      <td>174.585999</td>\n",
       "      <td>AVGO</td>\n",
       "      <td>2024-07-08 00:00:00+00:00</td>\n",
       "      <td>0.900513</td>\n",
       "      <td>1.0</td>\n",
       "    </tr>\n",
       "    <tr>\n",
       "      <th>6129</th>\n",
       "      <td>3376.000000</td>\n",
       "      <td>8058.T</td>\n",
       "      <td>2024-07-09 00:00:00+00:00</td>\n",
       "      <td>0.927544</td>\n",
       "      <td>1.0</td>\n",
       "    </tr>\n",
       "    <tr>\n",
       "      <th>8235</th>\n",
       "      <td>68.139999</td>\n",
       "      <td>TTE</td>\n",
       "      <td>2024-07-10 00:00:00+00:00</td>\n",
       "      <td>0.887750</td>\n",
       "      <td>1.0</td>\n",
       "    </tr>\n",
       "    <tr>\n",
       "      <th>8236</th>\n",
       "      <td>68.410004</td>\n",
       "      <td>TTE</td>\n",
       "      <td>2024-07-11 00:00:00+00:00</td>\n",
       "      <td>0.867408</td>\n",
       "      <td>1.0</td>\n",
       "    </tr>\n",
       "    <tr>\n",
       "      <th>5047</th>\n",
       "      <td>253.970001</td>\n",
       "      <td>CRM</td>\n",
       "      <td>2024-07-12 00:00:00+00:00</td>\n",
       "      <td>0.931747</td>\n",
       "      <td>1.0</td>\n",
       "    </tr>\n",
       "  </tbody>\n",
       "</table>\n",
       "</div>"
      ],
      "text/plain": [
       "         Adj Close  Ticker                      Date  pred_rf_best  \\\n",
       "11165   203.710007      TM 2024-07-01 00:00:00+00:00      0.900537   \n",
       "11166   206.210007      TM 2024-07-02 00:00:00+00:00      0.906909   \n",
       "3637     24.660000   IDEXY 2024-07-03 00:00:00+00:00      0.870109   \n",
       "5434   4020.949951  TCS.NS 2024-07-04 00:00:00+00:00      0.849862   \n",
       "3752    170.330994    AVGO 2024-07-05 00:00:00+00:00      0.859494   \n",
       "3753    174.585999    AVGO 2024-07-08 00:00:00+00:00      0.900513   \n",
       "6129   3376.000000  8058.T 2024-07-09 00:00:00+00:00      0.927544   \n",
       "8235     68.139999     TTE 2024-07-10 00:00:00+00:00      0.887750   \n",
       "8236     68.410004     TTE 2024-07-11 00:00:00+00:00      0.867408   \n",
       "5047    253.970001     CRM 2024-07-12 00:00:00+00:00      0.931747   \n",
       "\n",
       "       pred_rf_best_rank  \n",
       "11165                1.0  \n",
       "11166                1.0  \n",
       "3637                 1.0  \n",
       "5434                 1.0  \n",
       "3752                 1.0  \n",
       "3753                 1.0  \n",
       "6129                 1.0  \n",
       "8235                 1.0  \n",
       "8236                 1.0  \n",
       "5047                 1.0  "
      ]
     },
     "execution_count": 18,
     "metadata": {},
     "output_type": "execute_result"
    }
   ],
   "source": [
    "COLUMNS = [\"Adj Close\", \"Ticker\", \"Date\", prediction_name, prediction_name + \"_rank\"]\n",
    "trained.df_full[trained.df_full[f\"{prediction_name}_rank\"] == 1].sort_values(\n",
    "    by=\"Date\"\n",
    ").tail(10)[COLUMNS]"
   ]
  },
  {
   "cell_type": "code",
   "execution_count": 19,
   "metadata": {
    "execution": {
     "iopub.execute_input": "2024-07-14T20:04:07.575069Z",
     "iopub.status.busy": "2024-07-14T20:04:07.574488Z",
     "iopub.status.idle": "2024-07-14T20:04:07.606093Z",
     "shell.execute_reply": "2024-07-14T20:04:07.605332Z",
     "shell.execute_reply.started": "2024-07-14T20:04:07.575033Z"
    }
   },
   "outputs": [
    {
     "name": "stdout",
     "output_type": "stream",
     "text": [
      "         Adj Close  Ticker                      Date  pred_rf_best  \\\n",
      "11165   203.710007      TM 2024-07-01 00:00:00+00:00      0.900537   \n",
      "11166   206.210007      TM 2024-07-02 00:00:00+00:00      0.906909   \n",
      "3637     24.660000   IDEXY 2024-07-03 00:00:00+00:00      0.870109   \n",
      "5434   4020.949951  TCS.NS 2024-07-04 00:00:00+00:00      0.849862   \n",
      "3752    170.330994    AVGO 2024-07-05 00:00:00+00:00      0.859494   \n",
      "3753    174.585999    AVGO 2024-07-08 00:00:00+00:00      0.900513   \n",
      "6129   3376.000000  8058.T 2024-07-09 00:00:00+00:00      0.927544   \n",
      "8235     68.139999     TTE 2024-07-10 00:00:00+00:00      0.887750   \n",
      "8236     68.410004     TTE 2024-07-11 00:00:00+00:00      0.867408   \n",
      "5047    253.970001     CRM 2024-07-12 00:00:00+00:00      0.931747   \n",
      "\n",
      "       pred_rf_best_rank  \n",
      "11165                1.0  \n",
      "11166                1.0  \n",
      "3637                 1.0  \n",
      "5434                 1.0  \n",
      "3752                 1.0  \n",
      "3753                 1.0  \n",
      "6129                 1.0  \n",
      "8235                 1.0  \n",
      "8236                 1.0  \n",
      "5047                 1.0  \n"
     ]
    }
   ],
   "source": [
    "print(\n",
    "    trained.df_full[trained.df_full[f\"{prediction_name}_rank\"] == 1]\n",
    "    .sort_values(by=\"Date\")\n",
    "    .tail(10)[COLUMNS]\n",
    ")"
   ]
  },
  {
   "cell_type": "markdown",
   "metadata": {},
   "source": [
    "# 5) Simulation"
   ]
  },
  {
   "cell_type": "code",
   "execution_count": 20,
   "metadata": {
    "execution": {
     "iopub.execute_input": "2024-07-14T20:04:07.607613Z",
     "iopub.status.busy": "2024-07-14T20:04:07.607131Z",
     "iopub.status.idle": "2024-07-14T20:04:07.655010Z",
     "shell.execute_reply": "2024-07-14T20:04:07.654181Z",
     "shell.execute_reply.started": "2024-07-14T20:04:07.607589Z"
    },
    "tags": []
   },
   "outputs": [
    {
     "name": "stdout",
     "output_type": "stream",
     "text": [
      "Prediction columns founded: ['pred_rf_best', 'pred_rf_best_rank']\n",
      "Created columns is_correct: ['is_correct_pred']\n",
      "Precision on TEST set for each prediction:\n",
      "Prediction column:pred_rf_best , is_correct_column: is_correct_pred\n",
      "Series([], Name: count, dtype: int64)\n",
      "Series([], Name: count, dtype: float64)\n",
      "---------\n"
     ]
    },
    {
     "data": {
      "text/plain": [
       "['pred_rf_best', 'pred_rf_best_rank']"
      ]
     },
     "execution_count": 20,
     "metadata": {},
     "output_type": "execute_result"
    }
   ],
   "source": [
    "# Function to find all predictions (starting from 'pred'), generate is_correct (correctness of each prediction)\n",
    "# and precision on TEST dataset (assuming there is df[\"split\"] column with values 'train','validation','test'\n",
    "\n",
    "# returns 2 lists of features: PREDICTIONS and IS_CORRECT\n",
    "\n",
    "\n",
    "def get_predictions_correctness(df: pd.DataFrame, to_predict: str):\n",
    "    PREDICTIONS = [k for k in df.keys() if k.startswith(\"pred\")]\n",
    "    print(f\"Prediction columns founded: {PREDICTIONS}\")\n",
    "\n",
    "    # add columns is_correct_\n",
    "    for pred in PREDICTIONS:\n",
    "        part1 = pred.split(\"_\")[0]  # first prefix before '_'\n",
    "        df[f\"is_correct_{part1}\"] = (new_df[pred] == new_df[to_predict]).astype(int)\n",
    "\n",
    "    # IS_CORRECT features set\n",
    "    IS_CORRECT = [k for k in df.keys() if k.startswith(\"is_correct_\")]\n",
    "    print(f\"Created columns is_correct: {IS_CORRECT}\")\n",
    "\n",
    "    print(\"Precision on TEST set for each prediction:\")\n",
    "    # define \"Precision\" for ALL predictions on a Test dataset (~4 last years of trading)\n",
    "    for i, column in enumerate(IS_CORRECT):\n",
    "        prediction_column = PREDICTIONS[i]\n",
    "        is_correct_column = column\n",
    "        filter = (new_df.split == \"test\") & (new_df[prediction_column] == 1)\n",
    "        print(\n",
    "            f\"Prediction column:{prediction_column} , is_correct_column: {is_correct_column}\"\n",
    "        )\n",
    "        print(new_df[filter][is_correct_column].value_counts())\n",
    "        print(new_df[filter][is_correct_column].value_counts() / len(new_df[filter]))\n",
    "        print(\"---------\")\n",
    "\n",
    "    return PREDICTIONS, IS_CORRECT\n",
    "\n",
    "\n",
    "new_df = trained.df_full\n",
    "PREDICTIONS, IS_CORRECT = get_predictions_correctness(\n",
    "    new_df, to_predict=\"is_positive_growth_5d_future\"\n",
    ")\n",
    "PREDICTIONS"
   ]
  },
  {
   "cell_type": "code",
   "execution_count": 22,
   "metadata": {
    "execution": {
     "iopub.execute_input": "2024-07-14T20:06:26.954169Z",
     "iopub.status.busy": "2024-07-14T20:06:26.953779Z",
     "iopub.status.idle": "2024-07-14T20:06:27.371867Z",
     "shell.execute_reply": "2024-07-14T20:06:27.371025Z",
     "shell.execute_reply.started": "2024-07-14T20:06:26.954139Z"
    },
    "tags": []
   },
   "outputs": [
    {
     "name": "stdout",
     "output_type": "stream",
     "text": [
      "Calculating sumulation for prediction pred_rf_best:\n",
      "    Count times of investment 0 out of 79641 TEST records\n",
      "Calculating sumulation for prediction pred_rf_best_rank:\n",
      "    Count times of investment 961 out of 79641 TEST records\n",
      "    Financial Result: \n",
      " sim1_gross_rev_pred    315.293029\n",
      "sim1_fees_pred        -192.200000\n",
      "sim1_net_rev_pred      124.093029\n",
      "dtype: float64\n",
      "        Count Investments in 4 years (on TEST): 961\n",
      "        Gross Revenue: $315\n",
      "        Fees (0.2% for buy+sell): $192\n",
      "        Net Revenue: $124\n",
      "        Fees are 60 % from Gross Revenue\n",
      "        Capital Required : $500 (Vbegin)\n",
      "        Final value (Vbegin + Net_revenue) : $624 (Vfinal)\n",
      "        Average CAGR on TEST (4 years) : 1.057, or 5.7% \n",
      "        Average daily stats: \n",
      "            Average net revenue per investment: $0.13 \n",
      "            Average investments per day: 1 \n",
      "            Q75 investments per day: 1 \n",
      "=============================================+\n"
     ]
    },
    {
     "data": {
      "application/vnd.plotly.v1+json": {
       "config": {
        "plotlyServerURL": "https://plot.ly"
       },
       "data": [
        {
         "hovertemplate": "sim1_avg_investments_per_day=%{x}<br>sim1_CAGR=%{y}<br>sim1_growth_capital_4y=%{marker.size}<br>prediction=%{text}<extra></extra>",
         "legendgroup": "",
         "marker": {
          "color": "#636efa",
          "size": [
           1.2481860579223203
          ],
          "sizemode": "area",
          "sizeref": 0.003120465144805801,
          "symbol": "circle"
         },
         "mode": "markers+text",
         "name": "",
         "orientation": "v",
         "showlegend": false,
         "text": [
          "pred_rf_best_rank"
         ],
         "textposition": "top center",
         "type": "scatter",
         "x": [
          1
         ],
         "xaxis": "x",
         "y": [
          1.0569874524688156
         ],
         "yaxis": "y"
        }
       ],
       "layout": {
        "legend": {
         "itemsizing": "constant",
         "tracegroupgap": 0
        },
        "template": {
         "data": {
          "bar": [
           {
            "error_x": {
             "color": "#2a3f5f"
            },
            "error_y": {
             "color": "#2a3f5f"
            },
            "marker": {
             "line": {
              "color": "#E5ECF6",
              "width": 0.5
             },
             "pattern": {
              "fillmode": "overlay",
              "size": 10,
              "solidity": 0.2
             }
            },
            "type": "bar"
           }
          ],
          "barpolar": [
           {
            "marker": {
             "line": {
              "color": "#E5ECF6",
              "width": 0.5
             },
             "pattern": {
              "fillmode": "overlay",
              "size": 10,
              "solidity": 0.2
             }
            },
            "type": "barpolar"
           }
          ],
          "carpet": [
           {
            "aaxis": {
             "endlinecolor": "#2a3f5f",
             "gridcolor": "white",
             "linecolor": "white",
             "minorgridcolor": "white",
             "startlinecolor": "#2a3f5f"
            },
            "baxis": {
             "endlinecolor": "#2a3f5f",
             "gridcolor": "white",
             "linecolor": "white",
             "minorgridcolor": "white",
             "startlinecolor": "#2a3f5f"
            },
            "type": "carpet"
           }
          ],
          "choropleth": [
           {
            "colorbar": {
             "outlinewidth": 0,
             "ticks": ""
            },
            "type": "choropleth"
           }
          ],
          "contour": [
           {
            "colorbar": {
             "outlinewidth": 0,
             "ticks": ""
            },
            "colorscale": [
             [
              0,
              "#0d0887"
             ],
             [
              0.1111111111111111,
              "#46039f"
             ],
             [
              0.2222222222222222,
              "#7201a8"
             ],
             [
              0.3333333333333333,
              "#9c179e"
             ],
             [
              0.4444444444444444,
              "#bd3786"
             ],
             [
              0.5555555555555556,
              "#d8576b"
             ],
             [
              0.6666666666666666,
              "#ed7953"
             ],
             [
              0.7777777777777778,
              "#fb9f3a"
             ],
             [
              0.8888888888888888,
              "#fdca26"
             ],
             [
              1,
              "#f0f921"
             ]
            ],
            "type": "contour"
           }
          ],
          "contourcarpet": [
           {
            "colorbar": {
             "outlinewidth": 0,
             "ticks": ""
            },
            "type": "contourcarpet"
           }
          ],
          "heatmap": [
           {
            "colorbar": {
             "outlinewidth": 0,
             "ticks": ""
            },
            "colorscale": [
             [
              0,
              "#0d0887"
             ],
             [
              0.1111111111111111,
              "#46039f"
             ],
             [
              0.2222222222222222,
              "#7201a8"
             ],
             [
              0.3333333333333333,
              "#9c179e"
             ],
             [
              0.4444444444444444,
              "#bd3786"
             ],
             [
              0.5555555555555556,
              "#d8576b"
             ],
             [
              0.6666666666666666,
              "#ed7953"
             ],
             [
              0.7777777777777778,
              "#fb9f3a"
             ],
             [
              0.8888888888888888,
              "#fdca26"
             ],
             [
              1,
              "#f0f921"
             ]
            ],
            "type": "heatmap"
           }
          ],
          "heatmapgl": [
           {
            "colorbar": {
             "outlinewidth": 0,
             "ticks": ""
            },
            "colorscale": [
             [
              0,
              "#0d0887"
             ],
             [
              0.1111111111111111,
              "#46039f"
             ],
             [
              0.2222222222222222,
              "#7201a8"
             ],
             [
              0.3333333333333333,
              "#9c179e"
             ],
             [
              0.4444444444444444,
              "#bd3786"
             ],
             [
              0.5555555555555556,
              "#d8576b"
             ],
             [
              0.6666666666666666,
              "#ed7953"
             ],
             [
              0.7777777777777778,
              "#fb9f3a"
             ],
             [
              0.8888888888888888,
              "#fdca26"
             ],
             [
              1,
              "#f0f921"
             ]
            ],
            "type": "heatmapgl"
           }
          ],
          "histogram": [
           {
            "marker": {
             "pattern": {
              "fillmode": "overlay",
              "size": 10,
              "solidity": 0.2
             }
            },
            "type": "histogram"
           }
          ],
          "histogram2d": [
           {
            "colorbar": {
             "outlinewidth": 0,
             "ticks": ""
            },
            "colorscale": [
             [
              0,
              "#0d0887"
             ],
             [
              0.1111111111111111,
              "#46039f"
             ],
             [
              0.2222222222222222,
              "#7201a8"
             ],
             [
              0.3333333333333333,
              "#9c179e"
             ],
             [
              0.4444444444444444,
              "#bd3786"
             ],
             [
              0.5555555555555556,
              "#d8576b"
             ],
             [
              0.6666666666666666,
              "#ed7953"
             ],
             [
              0.7777777777777778,
              "#fb9f3a"
             ],
             [
              0.8888888888888888,
              "#fdca26"
             ],
             [
              1,
              "#f0f921"
             ]
            ],
            "type": "histogram2d"
           }
          ],
          "histogram2dcontour": [
           {
            "colorbar": {
             "outlinewidth": 0,
             "ticks": ""
            },
            "colorscale": [
             [
              0,
              "#0d0887"
             ],
             [
              0.1111111111111111,
              "#46039f"
             ],
             [
              0.2222222222222222,
              "#7201a8"
             ],
             [
              0.3333333333333333,
              "#9c179e"
             ],
             [
              0.4444444444444444,
              "#bd3786"
             ],
             [
              0.5555555555555556,
              "#d8576b"
             ],
             [
              0.6666666666666666,
              "#ed7953"
             ],
             [
              0.7777777777777778,
              "#fb9f3a"
             ],
             [
              0.8888888888888888,
              "#fdca26"
             ],
             [
              1,
              "#f0f921"
             ]
            ],
            "type": "histogram2dcontour"
           }
          ],
          "mesh3d": [
           {
            "colorbar": {
             "outlinewidth": 0,
             "ticks": ""
            },
            "type": "mesh3d"
           }
          ],
          "parcoords": [
           {
            "line": {
             "colorbar": {
              "outlinewidth": 0,
              "ticks": ""
             }
            },
            "type": "parcoords"
           }
          ],
          "pie": [
           {
            "automargin": true,
            "type": "pie"
           }
          ],
          "scatter": [
           {
            "fillpattern": {
             "fillmode": "overlay",
             "size": 10,
             "solidity": 0.2
            },
            "type": "scatter"
           }
          ],
          "scatter3d": [
           {
            "line": {
             "colorbar": {
              "outlinewidth": 0,
              "ticks": ""
             }
            },
            "marker": {
             "colorbar": {
              "outlinewidth": 0,
              "ticks": ""
             }
            },
            "type": "scatter3d"
           }
          ],
          "scattercarpet": [
           {
            "marker": {
             "colorbar": {
              "outlinewidth": 0,
              "ticks": ""
             }
            },
            "type": "scattercarpet"
           }
          ],
          "scattergeo": [
           {
            "marker": {
             "colorbar": {
              "outlinewidth": 0,
              "ticks": ""
             }
            },
            "type": "scattergeo"
           }
          ],
          "scattergl": [
           {
            "marker": {
             "colorbar": {
              "outlinewidth": 0,
              "ticks": ""
             }
            },
            "type": "scattergl"
           }
          ],
          "scattermapbox": [
           {
            "marker": {
             "colorbar": {
              "outlinewidth": 0,
              "ticks": ""
             }
            },
            "type": "scattermapbox"
           }
          ],
          "scatterpolar": [
           {
            "marker": {
             "colorbar": {
              "outlinewidth": 0,
              "ticks": ""
             }
            },
            "type": "scatterpolar"
           }
          ],
          "scatterpolargl": [
           {
            "marker": {
             "colorbar": {
              "outlinewidth": 0,
              "ticks": ""
             }
            },
            "type": "scatterpolargl"
           }
          ],
          "scatterternary": [
           {
            "marker": {
             "colorbar": {
              "outlinewidth": 0,
              "ticks": ""
             }
            },
            "type": "scatterternary"
           }
          ],
          "surface": [
           {
            "colorbar": {
             "outlinewidth": 0,
             "ticks": ""
            },
            "colorscale": [
             [
              0,
              "#0d0887"
             ],
             [
              0.1111111111111111,
              "#46039f"
             ],
             [
              0.2222222222222222,
              "#7201a8"
             ],
             [
              0.3333333333333333,
              "#9c179e"
             ],
             [
              0.4444444444444444,
              "#bd3786"
             ],
             [
              0.5555555555555556,
              "#d8576b"
             ],
             [
              0.6666666666666666,
              "#ed7953"
             ],
             [
              0.7777777777777778,
              "#fb9f3a"
             ],
             [
              0.8888888888888888,
              "#fdca26"
             ],
             [
              1,
              "#f0f921"
             ]
            ],
            "type": "surface"
           }
          ],
          "table": [
           {
            "cells": {
             "fill": {
              "color": "#EBF0F8"
             },
             "line": {
              "color": "white"
             }
            },
            "header": {
             "fill": {
              "color": "#C8D4E3"
             },
             "line": {
              "color": "white"
             }
            },
            "type": "table"
           }
          ]
         },
         "layout": {
          "annotationdefaults": {
           "arrowcolor": "#2a3f5f",
           "arrowhead": 0,
           "arrowwidth": 1
          },
          "autotypenumbers": "strict",
          "coloraxis": {
           "colorbar": {
            "outlinewidth": 0,
            "ticks": ""
           }
          },
          "colorscale": {
           "diverging": [
            [
             0,
             "#8e0152"
            ],
            [
             0.1,
             "#c51b7d"
            ],
            [
             0.2,
             "#de77ae"
            ],
            [
             0.3,
             "#f1b6da"
            ],
            [
             0.4,
             "#fde0ef"
            ],
            [
             0.5,
             "#f7f7f7"
            ],
            [
             0.6,
             "#e6f5d0"
            ],
            [
             0.7,
             "#b8e186"
            ],
            [
             0.8,
             "#7fbc41"
            ],
            [
             0.9,
             "#4d9221"
            ],
            [
             1,
             "#276419"
            ]
           ],
           "sequential": [
            [
             0,
             "#0d0887"
            ],
            [
             0.1111111111111111,
             "#46039f"
            ],
            [
             0.2222222222222222,
             "#7201a8"
            ],
            [
             0.3333333333333333,
             "#9c179e"
            ],
            [
             0.4444444444444444,
             "#bd3786"
            ],
            [
             0.5555555555555556,
             "#d8576b"
            ],
            [
             0.6666666666666666,
             "#ed7953"
            ],
            [
             0.7777777777777778,
             "#fb9f3a"
            ],
            [
             0.8888888888888888,
             "#fdca26"
            ],
            [
             1,
             "#f0f921"
            ]
           ],
           "sequentialminus": [
            [
             0,
             "#0d0887"
            ],
            [
             0.1111111111111111,
             "#46039f"
            ],
            [
             0.2222222222222222,
             "#7201a8"
            ],
            [
             0.3333333333333333,
             "#9c179e"
            ],
            [
             0.4444444444444444,
             "#bd3786"
            ],
            [
             0.5555555555555556,
             "#d8576b"
            ],
            [
             0.6666666666666666,
             "#ed7953"
            ],
            [
             0.7777777777777778,
             "#fb9f3a"
            ],
            [
             0.8888888888888888,
             "#fdca26"
            ],
            [
             1,
             "#f0f921"
            ]
           ]
          },
          "colorway": [
           "#636efa",
           "#EF553B",
           "#00cc96",
           "#ab63fa",
           "#FFA15A",
           "#19d3f3",
           "#FF6692",
           "#B6E880",
           "#FF97FF",
           "#FECB52"
          ],
          "font": {
           "color": "#2a3f5f"
          },
          "geo": {
           "bgcolor": "white",
           "lakecolor": "white",
           "landcolor": "#E5ECF6",
           "showlakes": true,
           "showland": true,
           "subunitcolor": "white"
          },
          "hoverlabel": {
           "align": "left"
          },
          "hovermode": "closest",
          "mapbox": {
           "style": "light"
          },
          "paper_bgcolor": "white",
          "plot_bgcolor": "#E5ECF6",
          "polar": {
           "angularaxis": {
            "gridcolor": "white",
            "linecolor": "white",
            "ticks": ""
           },
           "bgcolor": "#E5ECF6",
           "radialaxis": {
            "gridcolor": "white",
            "linecolor": "white",
            "ticks": ""
           }
          },
          "scene": {
           "xaxis": {
            "backgroundcolor": "#E5ECF6",
            "gridcolor": "white",
            "gridwidth": 2,
            "linecolor": "white",
            "showbackground": true,
            "ticks": "",
            "zerolinecolor": "white"
           },
           "yaxis": {
            "backgroundcolor": "#E5ECF6",
            "gridcolor": "white",
            "gridwidth": 2,
            "linecolor": "white",
            "showbackground": true,
            "ticks": "",
            "zerolinecolor": "white"
           },
           "zaxis": {
            "backgroundcolor": "#E5ECF6",
            "gridcolor": "white",
            "gridwidth": 2,
            "linecolor": "white",
            "showbackground": true,
            "ticks": "",
            "zerolinecolor": "white"
           }
          },
          "shapedefaults": {
           "line": {
            "color": "#2a3f5f"
           }
          },
          "ternary": {
           "aaxis": {
            "gridcolor": "white",
            "linecolor": "white",
            "ticks": ""
           },
           "baxis": {
            "gridcolor": "white",
            "linecolor": "white",
            "ticks": ""
           },
           "bgcolor": "#E5ECF6",
           "caxis": {
            "gridcolor": "white",
            "linecolor": "white",
            "ticks": ""
           }
          },
          "title": {
           "x": 0.05
          },
          "xaxis": {
           "automargin": true,
           "gridcolor": "white",
           "linecolor": "white",
           "ticks": "",
           "title": {
            "standoff": 15
           },
           "zerolinecolor": "white",
           "zerolinewidth": 2
          },
          "yaxis": {
           "automargin": true,
           "gridcolor": "white",
           "linecolor": "white",
           "ticks": "",
           "title": {
            "standoff": 15
           },
           "zerolinecolor": "white",
           "zerolinewidth": 2
          }
         }
        },
        "title": {
         "text": "Compound Annual Growth vs. Time spent (Average investments per day)"
        },
        "xaxis": {
         "anchor": "y",
         "domain": [
          0,
          1
         ],
         "title": {
          "text": "sim1_avg_investments_per_day"
         }
        },
        "yaxis": {
         "anchor": "x",
         "domain": [
          0,
          1
         ],
         "title": {
          "text": "sim1_CAGR"
         }
        }
       }
      },
      "text/html": [
       "<div>                            <div id=\"fe780ca5-f524-4b0e-96d1-10cde2e229aa\" class=\"plotly-graph-div\" style=\"height:525px; width:100%;\"></div>            <script type=\"text/javascript\">                require([\"plotly\"], function(Plotly) {                    window.PLOTLYENV=window.PLOTLYENV || {};                                    if (document.getElementById(\"fe780ca5-f524-4b0e-96d1-10cde2e229aa\")) {                    Plotly.newPlot(                        \"fe780ca5-f524-4b0e-96d1-10cde2e229aa\",                        [{\"hovertemplate\":\"sim1_avg_investments_per_day=%{x}\\u003cbr\\u003esim1_CAGR=%{y}\\u003cbr\\u003esim1_growth_capital_4y=%{marker.size}\\u003cbr\\u003eprediction=%{text}\\u003cextra\\u003e\\u003c\\u002fextra\\u003e\",\"legendgroup\":\"\",\"marker\":{\"color\":\"#636efa\",\"size\":[1.2481860579223203],\"sizemode\":\"area\",\"sizeref\":0.003120465144805801,\"symbol\":\"circle\"},\"mode\":\"markers+text\",\"name\":\"\",\"orientation\":\"v\",\"showlegend\":false,\"text\":[\"pred_rf_best_rank\"],\"x\":[1.0],\"xaxis\":\"x\",\"y\":[1.0569874524688156],\"yaxis\":\"y\",\"type\":\"scatter\",\"textposition\":\"top center\"}],                        {\"template\":{\"data\":{\"histogram2dcontour\":[{\"type\":\"histogram2dcontour\",\"colorbar\":{\"outlinewidth\":0,\"ticks\":\"\"},\"colorscale\":[[0.0,\"#0d0887\"],[0.1111111111111111,\"#46039f\"],[0.2222222222222222,\"#7201a8\"],[0.3333333333333333,\"#9c179e\"],[0.4444444444444444,\"#bd3786\"],[0.5555555555555556,\"#d8576b\"],[0.6666666666666666,\"#ed7953\"],[0.7777777777777778,\"#fb9f3a\"],[0.8888888888888888,\"#fdca26\"],[1.0,\"#f0f921\"]]}],\"choropleth\":[{\"type\":\"choropleth\",\"colorbar\":{\"outlinewidth\":0,\"ticks\":\"\"}}],\"histogram2d\":[{\"type\":\"histogram2d\",\"colorbar\":{\"outlinewidth\":0,\"ticks\":\"\"},\"colorscale\":[[0.0,\"#0d0887\"],[0.1111111111111111,\"#46039f\"],[0.2222222222222222,\"#7201a8\"],[0.3333333333333333,\"#9c179e\"],[0.4444444444444444,\"#bd3786\"],[0.5555555555555556,\"#d8576b\"],[0.6666666666666666,\"#ed7953\"],[0.7777777777777778,\"#fb9f3a\"],[0.8888888888888888,\"#fdca26\"],[1.0,\"#f0f921\"]]}],\"heatmap\":[{\"type\":\"heatmap\",\"colorbar\":{\"outlinewidth\":0,\"ticks\":\"\"},\"colorscale\":[[0.0,\"#0d0887\"],[0.1111111111111111,\"#46039f\"],[0.2222222222222222,\"#7201a8\"],[0.3333333333333333,\"#9c179e\"],[0.4444444444444444,\"#bd3786\"],[0.5555555555555556,\"#d8576b\"],[0.6666666666666666,\"#ed7953\"],[0.7777777777777778,\"#fb9f3a\"],[0.8888888888888888,\"#fdca26\"],[1.0,\"#f0f921\"]]}],\"heatmapgl\":[{\"type\":\"heatmapgl\",\"colorbar\":{\"outlinewidth\":0,\"ticks\":\"\"},\"colorscale\":[[0.0,\"#0d0887\"],[0.1111111111111111,\"#46039f\"],[0.2222222222222222,\"#7201a8\"],[0.3333333333333333,\"#9c179e\"],[0.4444444444444444,\"#bd3786\"],[0.5555555555555556,\"#d8576b\"],[0.6666666666666666,\"#ed7953\"],[0.7777777777777778,\"#fb9f3a\"],[0.8888888888888888,\"#fdca26\"],[1.0,\"#f0f921\"]]}],\"contourcarpet\":[{\"type\":\"contourcarpet\",\"colorbar\":{\"outlinewidth\":0,\"ticks\":\"\"}}],\"contour\":[{\"type\":\"contour\",\"colorbar\":{\"outlinewidth\":0,\"ticks\":\"\"},\"colorscale\":[[0.0,\"#0d0887\"],[0.1111111111111111,\"#46039f\"],[0.2222222222222222,\"#7201a8\"],[0.3333333333333333,\"#9c179e\"],[0.4444444444444444,\"#bd3786\"],[0.5555555555555556,\"#d8576b\"],[0.6666666666666666,\"#ed7953\"],[0.7777777777777778,\"#fb9f3a\"],[0.8888888888888888,\"#fdca26\"],[1.0,\"#f0f921\"]]}],\"surface\":[{\"type\":\"surface\",\"colorbar\":{\"outlinewidth\":0,\"ticks\":\"\"},\"colorscale\":[[0.0,\"#0d0887\"],[0.1111111111111111,\"#46039f\"],[0.2222222222222222,\"#7201a8\"],[0.3333333333333333,\"#9c179e\"],[0.4444444444444444,\"#bd3786\"],[0.5555555555555556,\"#d8576b\"],[0.6666666666666666,\"#ed7953\"],[0.7777777777777778,\"#fb9f3a\"],[0.8888888888888888,\"#fdca26\"],[1.0,\"#f0f921\"]]}],\"mesh3d\":[{\"type\":\"mesh3d\",\"colorbar\":{\"outlinewidth\":0,\"ticks\":\"\"}}],\"scatter\":[{\"fillpattern\":{\"fillmode\":\"overlay\",\"size\":10,\"solidity\":0.2},\"type\":\"scatter\"}],\"parcoords\":[{\"type\":\"parcoords\",\"line\":{\"colorbar\":{\"outlinewidth\":0,\"ticks\":\"\"}}}],\"scatterpolargl\":[{\"type\":\"scatterpolargl\",\"marker\":{\"colorbar\":{\"outlinewidth\":0,\"ticks\":\"\"}}}],\"bar\":[{\"error_x\":{\"color\":\"#2a3f5f\"},\"error_y\":{\"color\":\"#2a3f5f\"},\"marker\":{\"line\":{\"color\":\"#E5ECF6\",\"width\":0.5},\"pattern\":{\"fillmode\":\"overlay\",\"size\":10,\"solidity\":0.2}},\"type\":\"bar\"}],\"scattergeo\":[{\"type\":\"scattergeo\",\"marker\":{\"colorbar\":{\"outlinewidth\":0,\"ticks\":\"\"}}}],\"scatterpolar\":[{\"type\":\"scatterpolar\",\"marker\":{\"colorbar\":{\"outlinewidth\":0,\"ticks\":\"\"}}}],\"histogram\":[{\"marker\":{\"pattern\":{\"fillmode\":\"overlay\",\"size\":10,\"solidity\":0.2}},\"type\":\"histogram\"}],\"scattergl\":[{\"type\":\"scattergl\",\"marker\":{\"colorbar\":{\"outlinewidth\":0,\"ticks\":\"\"}}}],\"scatter3d\":[{\"type\":\"scatter3d\",\"line\":{\"colorbar\":{\"outlinewidth\":0,\"ticks\":\"\"}},\"marker\":{\"colorbar\":{\"outlinewidth\":0,\"ticks\":\"\"}}}],\"scattermapbox\":[{\"type\":\"scattermapbox\",\"marker\":{\"colorbar\":{\"outlinewidth\":0,\"ticks\":\"\"}}}],\"scatterternary\":[{\"type\":\"scatterternary\",\"marker\":{\"colorbar\":{\"outlinewidth\":0,\"ticks\":\"\"}}}],\"scattercarpet\":[{\"type\":\"scattercarpet\",\"marker\":{\"colorbar\":{\"outlinewidth\":0,\"ticks\":\"\"}}}],\"carpet\":[{\"aaxis\":{\"endlinecolor\":\"#2a3f5f\",\"gridcolor\":\"white\",\"linecolor\":\"white\",\"minorgridcolor\":\"white\",\"startlinecolor\":\"#2a3f5f\"},\"baxis\":{\"endlinecolor\":\"#2a3f5f\",\"gridcolor\":\"white\",\"linecolor\":\"white\",\"minorgridcolor\":\"white\",\"startlinecolor\":\"#2a3f5f\"},\"type\":\"carpet\"}],\"table\":[{\"cells\":{\"fill\":{\"color\":\"#EBF0F8\"},\"line\":{\"color\":\"white\"}},\"header\":{\"fill\":{\"color\":\"#C8D4E3\"},\"line\":{\"color\":\"white\"}},\"type\":\"table\"}],\"barpolar\":[{\"marker\":{\"line\":{\"color\":\"#E5ECF6\",\"width\":0.5},\"pattern\":{\"fillmode\":\"overlay\",\"size\":10,\"solidity\":0.2}},\"type\":\"barpolar\"}],\"pie\":[{\"automargin\":true,\"type\":\"pie\"}]},\"layout\":{\"autotypenumbers\":\"strict\",\"colorway\":[\"#636efa\",\"#EF553B\",\"#00cc96\",\"#ab63fa\",\"#FFA15A\",\"#19d3f3\",\"#FF6692\",\"#B6E880\",\"#FF97FF\",\"#FECB52\"],\"font\":{\"color\":\"#2a3f5f\"},\"hovermode\":\"closest\",\"hoverlabel\":{\"align\":\"left\"},\"paper_bgcolor\":\"white\",\"plot_bgcolor\":\"#E5ECF6\",\"polar\":{\"bgcolor\":\"#E5ECF6\",\"angularaxis\":{\"gridcolor\":\"white\",\"linecolor\":\"white\",\"ticks\":\"\"},\"radialaxis\":{\"gridcolor\":\"white\",\"linecolor\":\"white\",\"ticks\":\"\"}},\"ternary\":{\"bgcolor\":\"#E5ECF6\",\"aaxis\":{\"gridcolor\":\"white\",\"linecolor\":\"white\",\"ticks\":\"\"},\"baxis\":{\"gridcolor\":\"white\",\"linecolor\":\"white\",\"ticks\":\"\"},\"caxis\":{\"gridcolor\":\"white\",\"linecolor\":\"white\",\"ticks\":\"\"}},\"coloraxis\":{\"colorbar\":{\"outlinewidth\":0,\"ticks\":\"\"}},\"colorscale\":{\"sequential\":[[0.0,\"#0d0887\"],[0.1111111111111111,\"#46039f\"],[0.2222222222222222,\"#7201a8\"],[0.3333333333333333,\"#9c179e\"],[0.4444444444444444,\"#bd3786\"],[0.5555555555555556,\"#d8576b\"],[0.6666666666666666,\"#ed7953\"],[0.7777777777777778,\"#fb9f3a\"],[0.8888888888888888,\"#fdca26\"],[1.0,\"#f0f921\"]],\"sequentialminus\":[[0.0,\"#0d0887\"],[0.1111111111111111,\"#46039f\"],[0.2222222222222222,\"#7201a8\"],[0.3333333333333333,\"#9c179e\"],[0.4444444444444444,\"#bd3786\"],[0.5555555555555556,\"#d8576b\"],[0.6666666666666666,\"#ed7953\"],[0.7777777777777778,\"#fb9f3a\"],[0.8888888888888888,\"#fdca26\"],[1.0,\"#f0f921\"]],\"diverging\":[[0,\"#8e0152\"],[0.1,\"#c51b7d\"],[0.2,\"#de77ae\"],[0.3,\"#f1b6da\"],[0.4,\"#fde0ef\"],[0.5,\"#f7f7f7\"],[0.6,\"#e6f5d0\"],[0.7,\"#b8e186\"],[0.8,\"#7fbc41\"],[0.9,\"#4d9221\"],[1,\"#276419\"]]},\"xaxis\":{\"gridcolor\":\"white\",\"linecolor\":\"white\",\"ticks\":\"\",\"title\":{\"standoff\":15},\"zerolinecolor\":\"white\",\"automargin\":true,\"zerolinewidth\":2},\"yaxis\":{\"gridcolor\":\"white\",\"linecolor\":\"white\",\"ticks\":\"\",\"title\":{\"standoff\":15},\"zerolinecolor\":\"white\",\"automargin\":true,\"zerolinewidth\":2},\"scene\":{\"xaxis\":{\"backgroundcolor\":\"#E5ECF6\",\"gridcolor\":\"white\",\"linecolor\":\"white\",\"showbackground\":true,\"ticks\":\"\",\"zerolinecolor\":\"white\",\"gridwidth\":2},\"yaxis\":{\"backgroundcolor\":\"#E5ECF6\",\"gridcolor\":\"white\",\"linecolor\":\"white\",\"showbackground\":true,\"ticks\":\"\",\"zerolinecolor\":\"white\",\"gridwidth\":2},\"zaxis\":{\"backgroundcolor\":\"#E5ECF6\",\"gridcolor\":\"white\",\"linecolor\":\"white\",\"showbackground\":true,\"ticks\":\"\",\"zerolinecolor\":\"white\",\"gridwidth\":2}},\"shapedefaults\":{\"line\":{\"color\":\"#2a3f5f\"}},\"annotationdefaults\":{\"arrowcolor\":\"#2a3f5f\",\"arrowhead\":0,\"arrowwidth\":1},\"geo\":{\"bgcolor\":\"white\",\"landcolor\":\"#E5ECF6\",\"subunitcolor\":\"white\",\"showland\":true,\"showlakes\":true,\"lakecolor\":\"white\"},\"title\":{\"x\":0.05},\"mapbox\":{\"style\":\"light\"}}},\"xaxis\":{\"anchor\":\"y\",\"domain\":[0.0,1.0],\"title\":{\"text\":\"sim1_avg_investments_per_day\"}},\"yaxis\":{\"anchor\":\"x\",\"domain\":[0.0,1.0],\"title\":{\"text\":\"sim1_CAGR\"}},\"legend\":{\"tracegroupgap\":0,\"itemsizing\":\"constant\"},\"title\":{\"text\":\"Compound Annual Growth vs. Time spent (Average investments per day)\"}},                        {\"responsive\": true}                    ).then(function(){\n",
       "                            \n",
       "var gd = document.getElementById('fe780ca5-f524-4b0e-96d1-10cde2e229aa');\n",
       "var x = new MutationObserver(function (mutations, observer) {{\n",
       "        var display = window.getComputedStyle(gd).display;\n",
       "        if (!display || display === 'none') {{\n",
       "            console.log([gd, 'removed!']);\n",
       "            Plotly.purge(gd);\n",
       "            observer.disconnect();\n",
       "        }}\n",
       "}});\n",
       "\n",
       "// Listen for the removal of the full notebook cells\n",
       "var notebookContainer = gd.closest('#notebook-container');\n",
       "if (notebookContainer) {{\n",
       "    x.observe(notebookContainer, {childList: true});\n",
       "}}\n",
       "\n",
       "// Listen for the clearing of the current output cell\n",
       "var outputEl = gd.closest('.output');\n",
       "if (outputEl) {{\n",
       "    x.observe(outputEl, {childList: true});\n",
       "}}\n",
       "\n",
       "                        })                };                });            </script>        </div>"
      ]
     },
     "metadata": {},
     "output_type": "display_data"
    }
   ],
   "source": [
    "# Calculate fin. result for ALL predictions (manual and produced by models)\n",
    "\n",
    "sim1_results = []  # results in Array\n",
    "\n",
    "# Iterate over all predictions\n",
    "for pred in PREDICTIONS:\n",
    "    print(f\"Calculating sumulation for prediction {pred}:\")\n",
    "    print(\n",
    "        f\"    Count times of investment {len(new_df[(new_df.split=='test')&(new_df[pred]==1)])} out of {len(new_df[(new_df.split=='test')])} TEST records\"\n",
    "    )\n",
    "\n",
    "    # Prefix: e.g. pred1 or pred10\n",
    "    pred_prefix = pred.split(\"_\")[0]\n",
    "\n",
    "    # Fin. result columns: define new records for EACH positive prediction\n",
    "    new_df[\"sim1_gross_rev_\" + pred_prefix] = (\n",
    "        new_df[pred] * 100 * (new_df[\"growth_future_5d\"] - 1)\n",
    "    )\n",
    "    new_df[\"sim1_fees_\" + pred_prefix] = -new_df[pred] * 100 * 0.002\n",
    "    new_df[\"sim1_net_rev_\" + pred_prefix] = (\n",
    "        new_df[\"sim1_gross_rev_\" + pred_prefix] + new_df[\"sim1_fees_\" + pred_prefix]\n",
    "    )\n",
    "\n",
    "    # calculate agg. results for each PREDICTION columns (pred) on TEST\n",
    "    filter_test_and_positive_pred = (\n",
    "        (new_df.split == \"test\") & (new_df[pred] == 1)\n",
    "    )  # filter records on TEST set, when current prediction is 1 (we invest $100 for 1 week ahead - 5 periods)\n",
    "    sim1_count_investments = len(new_df[filter_test_and_positive_pred])\n",
    "    sim1_gross_rev = new_df[filter_test_and_positive_pred][\n",
    "        \"sim1_gross_rev_\" + pred_prefix\n",
    "    ].sum()\n",
    "    sim1_fees = new_df[filter_test_and_positive_pred][\"sim1_fees_\" + pred_prefix].sum()\n",
    "    sim1_net_rev = new_df[filter_test_and_positive_pred][\n",
    "        \"sim1_net_rev_\" + pred_prefix\n",
    "    ].sum()\n",
    "\n",
    "    if sim1_gross_rev > 0:\n",
    "        sim1_fees_percentage = -sim1_fees / sim1_gross_rev\n",
    "    else:\n",
    "        sim1_fees_percentage = None\n",
    "\n",
    "    if sim1_count_investments > 0:\n",
    "        sim1_average_net_revenue = sim1_net_rev / sim1_count_investments\n",
    "    else:\n",
    "        sim1_average_net_revenue = None\n",
    "\n",
    "    # APPROXIMATE CAPITAL REQUIRED and CAGR Calculation\n",
    "    df_investments_count_daily = pd.DataFrame(\n",
    "        new_df[filter_test_and_positive_pred].groupby(\"Date\")[pred].count()\n",
    "    )\n",
    "    sim1_avg_investments_per_day = df_investments_count_daily[pred].mean()\n",
    "    sim1_q75_investments_per_day = df_investments_count_daily[pred].quantile(\n",
    "        0.75\n",
    "    )  # 75% case - how many $100 investments per day do we have?\n",
    "    # df_investments_count_daily[pred].mean()\n",
    "    sim1_capital = (\n",
    "        100 * 5 * sim1_q75_investments_per_day\n",
    "    )  # 5 days in a row with positive predictions\n",
    "    # CAGR: average growth per year. E.g. if you have 1.5 return (50% growth in 4 years) --> (1.5)**(1/4) = 1.106 or 10.6% average\n",
    "    sim1_CAGR = ((sim1_capital + sim1_net_rev) / sim1_capital) ** (1 / 4)\n",
    "\n",
    "    # append to DF\n",
    "    sim1_results.append(\n",
    "        (\n",
    "            pred,\n",
    "            sim1_count_investments,\n",
    "            sim1_gross_rev,\n",
    "            sim1_fees,\n",
    "            sim1_net_rev,\n",
    "            sim1_fees_percentage,\n",
    "            sim1_average_net_revenue,\n",
    "            sim1_avg_investments_per_day,\n",
    "            sim1_capital,\n",
    "            sim1_CAGR,\n",
    "        )\n",
    "    )\n",
    "\n",
    "    # output for all predictions with some positive predictions\n",
    "    if sim1_count_investments > 1:\n",
    "        print(\n",
    "            f\"    Financial Result: \\n {new_df[filter_test_and_positive_pred][['sim1_gross_rev_'+pred_prefix,'sim1_fees_'+pred_prefix,'sim1_net_rev_'+pred_prefix]].sum()}\"\n",
    "        )\n",
    "        print(\n",
    "            f\"        Count Investments in 4 years (on TEST): {sim1_count_investments}\"\n",
    "        )\n",
    "        print(f\"        Gross Revenue: ${int(sim1_gross_rev)}\")\n",
    "        print(f\"        Fees (0.2% for buy+sell): ${int(-sim1_fees)}\")\n",
    "        print(f\"        Net Revenue: ${int(sim1_net_rev)}\")\n",
    "        print(\n",
    "            f\"        Fees are {int(-100.0*sim1_fees/sim1_gross_rev)} % from Gross Revenue\"\n",
    "        )\n",
    "        print(f\"        Capital Required : ${int(sim1_capital)} (Vbegin)\")\n",
    "        print(\n",
    "            f\"        Final value (Vbegin + Net_revenue) : ${int(sim1_capital + sim1_net_rev)} (Vfinal)\"\n",
    "        )\n",
    "\n",
    "        print(\n",
    "            f\"        Average CAGR on TEST (4 years) : {np.round(sim1_CAGR,3)}, or {np.round(100.0*(sim1_CAGR-1),1)}% \"\n",
    "        )\n",
    "\n",
    "        print(\"        Average daily stats: \")\n",
    "        print(\n",
    "            f\"            Average net revenue per investment: ${np.round(sim1_net_rev/sim1_count_investments,2)} \"\n",
    "        )\n",
    "        print(\n",
    "            f\"            Average investments per day: {int(np.round(sim1_avg_investments_per_day))} \"\n",
    "        )\n",
    "        print(\n",
    "            f\"            Q75 investments per day: {int(np.round(sim1_q75_investments_per_day))} \"\n",
    "        )\n",
    "        print(\"=============================================+\")\n",
    "\n",
    "\n",
    "# results in a DataFrame from an Array\n",
    "columns_simulation = [\n",
    "    \"prediction\",\n",
    "    \"sim1_count_investments\",\n",
    "    \"sim1_gross_rev\",\n",
    "    \"sim1_fees\",\n",
    "    \"sim1_net_rev\",\n",
    "    \"sim1_fees_percentage\",\n",
    "    \"sim1_average_net_revenue\",\n",
    "    \"sim1_avg_investments_per_day\",\n",
    "    \"sim1_capital\",\n",
    "    \"sim1_CAGR\",\n",
    "]\n",
    "\n",
    "df_sim1_results = pd.DataFrame(sim1_results, columns=columns_simulation)\n",
    "df_sim1_results[\"sim1_growth_capital_4y\"] = (\n",
    "    df_sim1_results.sim1_net_rev + df_sim1_results.sim1_capital\n",
    ") / df_sim1_results.sim1_capital\n",
    "# Create the scatter plot\n",
    "fig = px.scatter(\n",
    "    df_sim1_results.dropna(),\n",
    "    x=\"sim1_avg_investments_per_day\",\n",
    "    y=\"sim1_CAGR\",\n",
    "    size=\"sim1_growth_capital_4y\",  # Use the 'size' parameter for sim1_CAGR\n",
    "    text=\"prediction\",\n",
    "    title=\"Compound Annual Growth vs. Time spent (Average investments per day)\",\n",
    "    labels={\n",
    "        \"sim1_capital\": \"Initial Capital Requirement\",\n",
    "        \"growth_capital_4y\": \"4-Year Capital Growth\",\n",
    "    },\n",
    ")\n",
    "\n",
    "# Update the layout to improve readability of the annotations\n",
    "fig.update_traces(textposition=\"top center\")\n",
    "\n",
    "# Show the plot\n",
    "fig.show()"
   ]
  },
  {
   "cell_type": "code",
   "execution_count": null,
   "metadata": {},
   "outputs": [],
   "source": []
  }
 ],
 "metadata": {
  "kernelspec": {
   "display_name": "saturn (Python 3)",
   "language": "python",
   "name": "python3"
  },
  "language_info": {
   "codemirror_mode": {
    "name": "ipython",
    "version": 3
   },
   "file_extension": ".py",
   "mimetype": "text/x-python",
   "name": "python",
   "nbconvert_exporter": "python",
   "pygments_lexer": "ipython3",
   "version": "3.10.13"
  }
 },
 "nbformat": 4,
 "nbformat_minor": 4
}
